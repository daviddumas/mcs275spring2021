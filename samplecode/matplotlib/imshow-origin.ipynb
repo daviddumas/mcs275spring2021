{
 "cells": [
  {
   "cell_type": "markdown",
   "metadata": {},
   "source": [
    "# `origin` in `matplotlib.pyplot.imshow`\n",
    "\n",
    "When we initially discussed `matplotlib.pyplot.imshow` in lecture, the density plots we created with it were shown upside down (and with incorrect y axis markers).  This happened because the way we used `np.meshgrid` put the smallest y values in the first row of the resulting matrix, and `imshow` defaults to putting the first row at the top of the image.  The usual mathematical convention is to put the smallest y values at the bottom, and we labeled the axes as if that were true.\n",
    "\n",
    "The course notebooks have been corrected.  This notebook discusses the issue so you can see what happened and how to fix it.\n",
    "\n",
    "First, let's make a density plot for this function\n",
    "$$ f(x,y) = \\begin{cases} x & \\text{if y<4}\\\\ x+1 & \\text{else} \\end{cases}$$\n",
    "on the square $0 \\leq x \\leq 5$, $0 \\leq y \\leq 5$.  We use `meshgrid` to create a grid of sample points, apply the function to that grid, and then pass `extent` to `imshow` to set the axes.  We expect to see a stripe across the top fifth of the figure, where $y \\geq 4$."
   ]
  },
  {
   "cell_type": "code",
   "execution_count": 4,
   "metadata": {},
   "outputs": [
    {
     "data": {
      "text/plain": [
       "<matplotlib.image.AxesImage at 0x7f0f116e2a00>"
      ]
     },
     "execution_count": 4,
     "metadata": {},
     "output_type": "execute_result"
    },
    {
     "data": {
      "image/png": "[encoded data removed]",
      "text/plain": [
       "<Figure size 432x288 with 1 Axes>"
      ]
     },
     "metadata": {
      "needs_background": "light"
     },
     "output_type": "display_data"
    }
   ],
   "source": [
    "import numpy as np\n",
    "import matplotlib.pyplot as plt\n",
    "\n",
    "xx,yy = np.meshgrid(np.linspace(0,5,50),np.linspace(0,5,50))\n",
    "zz = xx + (yy<4).astype(\"float\")\n",
    "\n",
    "plt.title(\"Incorrect: Plot is upside down\")\n",
    "plt.imshow(zz,extent=(0,5,0,5))"
   ]
  },
  {
   "cell_type": "markdown",
   "metadata": {},
   "source": [
    "As you can see, y=4 is near the bottom of the figure!  The y axis labels are wrong.\n",
    "\n",
    "To fix this, we need to tell `imshow` that the first row of data corresponds to the lower side of the figure we're drawing.  We do that by passing `origin=\"lower\"` as a kwarg."
   ]
  },
  {
   "cell_type": "code",
   "execution_count": 6,
   "metadata": {},
   "outputs": [
    {
     "data": {
      "text/plain": [
       "<matplotlib.image.AxesImage at 0x7f0f11675700>"
      ]
     },
     "execution_count": 6,
     "metadata": {},
     "output_type": "execute_result"
    },
    {
     "data": {
      "image/png": "[encoded data removed]",
      "text/plain": [
       "<Figure size 432x288 with 1 Axes>"
      ]
     },
     "metadata": {
      "needs_background": "light"
     },
     "output_type": "display_data"
    }
   ],
   "source": [
    "import numpy as np\n",
    "import matplotlib.pyplot as plt\n",
    "\n",
    "xx,yy = np.meshgrid(np.linspace(0,5,50),np.linspace(0,5,50))\n",
    "zz = xx + (yy<4).astype(\"float\")\n",
    "\n",
    "plt.title(\"Corrected version\")\n",
    "plt.imshow(zz,extent=(0,5,0,5),origin=\"lower\")"
   ]
  },
  {
   "cell_type": "markdown",
   "metadata": {},
   "source": [
    "**That's it.  When making density plots using `meshgrid` and `imshow`, just remember to pass `origin=\"lower\"`.**\n",
    "\n",
    "This advice is for density plots of functions.  There *are* some situations where you might use `imshow` and expect the top row of data to appear at the top of the image.  For example, if you have a large matrix and want to see how big its entries are, `imshow` can do that, and the default options will put the first row of the matrix at the top (matching the way people usually write matrices).  E.g."
   ]
  },
  {
   "cell_type": "code",
   "execution_count": 14,
   "metadata": {},
   "outputs": [
    {
     "data": {
      "text/plain": [
       "(-0.5, 4.5, 3.5, -0.5)"
      ]
     },
     "execution_count": 14,
     "metadata": {},
     "output_type": "execute_result"
    },
    {
     "data": {
      "image/png": "[encoded data removed]",
      "text/plain": [
       "<Figure size 432x288 with 1 Axes>"
      ]
     },
     "metadata": {
      "needs_background": "light"
     },
     "output_type": "display_data"
    }
   ],
   "source": [
    "import numpy as np\n",
    "import matplotlib.pyplot as plt\n",
    "\n",
    "# Matrix with biggest entry in bottom row\n",
    "M = np.array( [\n",
    "    [0,0,1,0,0],\n",
    "    [0,1,1,1,0],\n",
    "    [1,2,5,2,1],\n",
    "    [8,9,15,9,8]\n",
    "])\n",
    "\n",
    "# Image with brightest pixel at the bottom\n",
    "plt.imshow(M, cmap=\"magma\")\n",
    "plt.axis('off') # no axes or ticks"
   ]
  },
  {
   "cell_type": "markdown",
   "metadata": {},
   "source": [
    "A much more detailed discussion of this issue can be found in the matplotlib docs at:\n",
    "* [https://matplotlib.org/stable/tutorials/intermediate/imshow_extent.html](https://matplotlib.org/stable/tutorials/intermediate/imshow_extent.html)\n"
   ]
  }
 ],
 "metadata": {
  "kernelspec": {
   "display_name": "Python 3",
   "language": "python",
   "name": "python3"
  },
  "language_info": {
   "codemirror_mode": {
    "name": "ipython",
    "version": 3
   },
   "file_extension": ".py",
   "mimetype": "text/x-python",
   "name": "python",
   "nbconvert_exporter": "python",
   "pygments_lexer": "ipython3",
   "version": "3.8.5"
  }
 },
 "nbformat": 4,
 "nbformat_minor": 4
}

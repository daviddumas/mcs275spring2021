{
 "cells": [
  {
   "cell_type": "markdown",
   "metadata": {},
   "source": [
    "# Quick intro to `pandas`\n",
    "### MCS 275 Spring 2021 - David Dumas\n",
    "\n",
    "This is a quick tour of basic plotting with matplotlib.  For more detail see\n",
    "* [Chapter 3 of VanderPlas](https://jakevdp.github.io/PythonDataScienceHandbook/)\n",
    "\n",
    "You can install pandas on your own machine (e.g. `python3 -m pip install pandas`).  It is also available on [Google Colab](https://colab.research.google.com/)."
   ]
  },
  {
   "cell_type": "code",
   "execution_count": 3,
   "metadata": {},
   "outputs": [],
   "source": [
    "import pandas as pd\n",
    "import numpy as np\n",
    "import matplotlib.pyplot as plt\n",
    "import matplotlib as mpl\n",
    "\n",
    "plt.style.use(\"Solarize_Light2\")\n",
    "# plt.styles.available"
   ]
  }
 ],
 "metadata": {
  "kernelspec": {
   "display_name": "Python 3",
   "language": "python",
   "name": "python3"
  },
  "language_info": {
   "codemirror_mode": {
    "name": "ipython",
    "version": 3
   },
   "file_extension": ".py",
   "mimetype": "text/x-python",
   "name": "python",
   "nbconvert_exporter": "python",
   "pygments_lexer": "ipython3",
   "version": "3.8.5"
  }
 },
 "nbformat": 4,
 "nbformat_minor": 4
}

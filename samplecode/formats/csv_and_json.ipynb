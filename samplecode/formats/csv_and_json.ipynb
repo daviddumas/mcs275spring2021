{
 "cells": [
  {
   "cell_type": "markdown",
   "metadata": {},
   "source": [
    "## CSV"
   ]
  },
  {
   "cell_type": "code",
   "execution_count": 2,
   "metadata": {},
   "outputs": [],
   "source": [
    "import csv"
   ]
  },
  {
   "cell_type": "code",
   "execution_count": 3,
   "metadata": {},
   "outputs": [],
   "source": [
    "# csv.reader interface\n",
    "po_names = set()\n",
    "\n",
    "with open(\"data/ri.csv\",\"rt\",newline=\"\") as csvfile:\n",
    "    rdr = csv.reader(csvfile)\n",
    "    for row in rdr:\n",
    "        name = row[3]  # ??? what is this?\n",
    "        if name:\n",
    "            po_names.add(name)"
   ]
  },
  {
   "cell_type": "code",
   "execution_count": 4,
   "metadata": {},
   "outputs": [],
   "source": [
    "# csv.DictReader interface\n",
    "po_names = set()\n",
    "\n",
    "with open(\"data/ri.csv\",\"rt\",newline=\"\") as csvfile:\n",
    "    rdr = csv.DictReader(csvfile)\n",
    "    for row in rdr:\n",
    "        name = row[\"PO Name\"]  # much clearer\n",
    "        if name:\n",
    "            po_names.add(name)"
   ]
  },
  {
   "cell_type": "code",
   "execution_count": 12,
   "metadata": {},
   "outputs": [
    {
     "data": {
      "text/plain": [
       "{'BARRINGTON',\n",
       " 'COVENTRY',\n",
       " 'HARRISVILLE',\n",
       " 'NEWPORT',\n",
       " 'NORTH KINGSTOWN',\n",
       " 'PASCOAG',\n",
       " 'PAWTUCKET',\n",
       " 'PORTSMOUTH',\n",
       " 'PROVIDENCE',\n",
       " 'WAKEFIELD',\n",
       " 'WARREN',\n",
       " 'WARWICK',\n",
       " 'WEST WARWICK',\n",
       " 'WESTERLY',\n",
       " 'WOONSOCKET'}"
      ]
     },
     "execution_count": 12,
     "metadata": {},
     "output_type": "execute_result"
    }
   ],
   "source": [
    "po_names"
   ]
  },
  {
   "cell_type": "markdown",
   "metadata": {},
   "source": [
    "## JSON"
   ]
  },
  {
   "cell_type": "code",
   "execution_count": 5,
   "metadata": {},
   "outputs": [],
   "source": [
    "import json"
   ]
  },
  {
   "cell_type": "code",
   "execution_count": 6,
   "metadata": {},
   "outputs": [],
   "source": [
    "with open(\"data/nasa_earth_assets.json\",\"rt\") as jsonfile:\n",
    "    val = json.load(jsonfile)"
   ]
  },
  {
   "cell_type": "code",
   "execution_count": 7,
   "metadata": {},
   "outputs": [
    {
     "data": {
      "text/plain": [
       "dict"
      ]
     },
     "execution_count": 7,
     "metadata": {},
     "output_type": "execute_result"
    }
   ],
   "source": [
    "type(val)"
   ]
  },
  {
   "cell_type": "code",
   "execution_count": 8,
   "metadata": {},
   "outputs": [
    {
     "data": {
      "text/plain": [
       "{'dataset': 'LANDSAT/LC08/C01/T1_SR', 'planet': 'earth'}"
      ]
     },
     "execution_count": 8,
     "metadata": {},
     "output_type": "execute_result"
    }
   ],
   "source": [
    "val[\"resource\"]"
   ]
  },
  {
   "cell_type": "code",
   "execution_count": 11,
   "metadata": {},
   "outputs": [
    {
     "data": {
      "text/plain": [
       "True"
      ]
     },
     "execution_count": 11,
     "metadata": {},
     "output_type": "execute_result"
    }
   ],
   "source": [
    "# Check that this is terrestrial imagery\n",
    "val[\"resource\"][\"planet\"] == \"earth\""
   ]
  },
  {
   "cell_type": "code",
   "execution_count": null,
   "metadata": {},
   "outputs": [],
   "source": [
    "# The lines below are not expected to work, but they are the kinds\n",
    "# of queries you might use to explore an object returned from\n",
    "# reading a JSON file.\n",
    "d[\"metadata\"][\"date\"]\n",
    "d[\"metadata\"][\"version\"]\n",
    "d[\"response\"][\"scores\"][\"quiz7\"]"
   ]
  }
 ],
 "metadata": {
  "kernelspec": {
   "display_name": "Python 3",
   "language": "python",
   "name": "python3"
  },
  "language_info": {
   "codemirror_mode": {
    "name": "ipython",
    "version": 3
   },
   "file_extension": ".py",
   "mimetype": "text/x-python",
   "name": "python",
   "nbconvert_exporter": "python",
   "pygments_lexer": "ipython3",
   "version": "3.8.5"
  }
 },
 "nbformat": 4,
 "nbformat_minor": 4
}

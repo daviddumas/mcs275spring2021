{
  "nbformat": 4,
  "nbformat_minor": 0,
  "metadata": {
    "colab": {
      "name": "decorators.ipynb",
      "provenance": [],
      "collapsed_sections": []
    },
    "kernelspec": {
      "name": "python3",
      "display_name": "Python 3"
    }
  },
  "cells": [
    {
      "cell_type": "markdown",
      "metadata": {
        "id": "0fOP0IplVG8g"
      },
      "source": [
        "# MCS 275 Spring 2021 Lecture 8\r\n",
        "## Live coding decorator examples"
      ]
    },
    {
      "cell_type": "code",
      "metadata": {
        "id": "F6Rxx4HuVMnf"
      },
      "source": [
        "# A higher-order function: It accepts a function as an argument\r\n",
        "def dotwice(f):\r\n",
        "    \"\"\"Call function f twice\"\"\"\r\n",
        "    f()\r\n",
        "    f()"
      ],
      "execution_count": null,
      "outputs": []
    },
    {
      "cell_type": "code",
      "metadata": {
        "id": "38XA6IP6VZGm"
      },
      "source": [
        "def eureka():\r\n",
        "  \"\"\"Shout eureka\"\"\"\r\n",
        "  print(\"Eureka! I have discovered Python!\")"
      ],
      "execution_count": null,
      "outputs": []
    },
    {
      "cell_type": "code",
      "metadata": {
        "colab": {
          "base_uri": "https://localhost:8080/"
        },
        "id": "M1YkYRO7ViD9",
        "outputId": "a61e6537-f54c-40b8-db3b-c0cb12a5b8ea"
      },
      "source": [
        "dotwice(eureka)"
      ],
      "execution_count": null,
      "outputs": [
        {
          "output_type": "stream",
          "text": [
            "Eureka! I have discovered Python!\n",
            "Eureka! I have discovered Python!\n"
          ],
          "name": "stdout"
        }
      ]
    },
    {
      "cell_type": "code",
      "metadata": {
        "id": "7TJBcgneVxVe"
      },
      "source": [
        "# The next line will NOT work, because eureka() evaluates to None\r\n",
        "# and None is not callable.\r\n",
        "dotwice(eureka())  # call eureka, get return value, pass that to dotwice\r\n"
      ],
      "execution_count": null,
      "outputs": []
    },
    {
      "cell_type": "code",
      "metadata": {
        "id": "HejpIx_lWJ45"
      },
      "source": [
        "# This is basically what's wrong with the cell above\r\n",
        "# A non-callable object is being called\r\n",
        "275(\"this will fail\")"
      ],
      "execution_count": null,
      "outputs": []
    },
    {
      "cell_type": "code",
      "metadata": {
        "colab": {
          "base_uri": "https://localhost:8080/"
        },
        "id": "VVfIhrseWUCu",
        "outputId": "68c11ee8-ff7d-4cea-e8f6-b598e66d57f2"
      },
      "source": [
        "def sayhello():\r\n",
        "  \"\"\"Say hello\"\"\"\r\n",
        "  print(\"hello\")\r\n",
        "\r\n",
        "dotwice(sayhello)"
      ],
      "execution_count": null,
      "outputs": [
        {
          "output_type": "stream",
          "text": [
            "hello\n",
            "hello\n"
          ],
          "name": "stdout"
        }
      ]
    },
    {
      "cell_type": "code",
      "metadata": {
        "colab": {
          "base_uri": "https://localhost:8080/"
        },
        "id": "WcsA4ZIhWm4c",
        "outputId": "d639557d-cd27-4b26-b722-dc81281d5acd"
      },
      "source": [
        "# lamba arg1,arg2: retval\r\n",
        "dotwice(lambda :print(\"hello\"))"
      ],
      "execution_count": null,
      "outputs": [
        {
          "output_type": "stream",
          "text": [
            "hello\n",
            "hello\n"
          ],
          "name": "stdout"
        }
      ]
    },
    {
      "cell_type": "code",
      "metadata": {
        "id": "IgQU8ha6W_02"
      },
      "source": [
        "# A version of dowtice that allows the function to be called\r\n",
        "# to accept arbitrary parameters\r\n",
        "\r\n",
        "def dotwice2(f,*args,**kwargs):\r\n",
        "    \"\"\"Call function f twice, allowing arguments to be passed\"\"\"\r\n",
        "    f(*args,**kwargs)\r\n",
        "    f(*args,**kwargs)"
      ],
      "execution_count": null,
      "outputs": []
    },
    {
      "cell_type": "code",
      "metadata": {
        "colab": {
          "base_uri": "https://localhost:8080/"
        },
        "id": "0tlX833IXRyc",
        "outputId": "ad23a86f-7efe-4a24-c57e-165982437bd6"
      },
      "source": [
        "dotwice2(print,\"hello\",\"my name\",\"is\",\"david\",end=\"!\\n\")"
      ],
      "execution_count": null,
      "outputs": [
        {
          "output_type": "stream",
          "text": [
            "hello my name is david!\n",
            "hello my name is david!\n"
          ],
          "name": "stdout"
        }
      ]
    },
    {
      "cell_type": "code",
      "metadata": {
        "colab": {
          "base_uri": "https://localhost:8080/"
        },
        "id": "8cw_dh4GXlBo",
        "outputId": "e316784a-6ce0-4827-face-05b85524a8b0"
      },
      "source": [
        "# Previous cell equivalent to\r\n",
        "print(\"hello\",\"my name\",\"is\",\"david\",end=\"!\\n\")\r\n",
        "print(\"hello\",\"my name\",\"is\",\"david\",end=\"!\\n\")"
      ],
      "execution_count": null,
      "outputs": [
        {
          "output_type": "stream",
          "text": [
            "hello my name is david!\n",
            "hello my name is david!\n"
          ],
          "name": "stdout"
        }
      ]
    },
    {
      "cell_type": "code",
      "metadata": {
        "id": "w0ZHZpJLXwoa"
      },
      "source": [
        "def return_power(n):\r\n",
        "    def inner(x): # function inside a function!\r\n",
        "        \"\"\"Raise x to a power\"\"\"\r\n",
        "        return x**n\r\n",
        "    return inner"
      ],
      "execution_count": null,
      "outputs": []
    },
    {
      "cell_type": "code",
      "metadata": {
        "id": "PTKiYiuoYJZU"
      },
      "source": [
        "pow2 = return_power(2)  # 2 goes into n, and inner gets defined & returned\r\n",
        "pow3 = return_power(3)  # 3 goes into n, and inner gets defined & returned"
      ],
      "execution_count": null,
      "outputs": []
    },
    {
      "cell_type": "code",
      "metadata": {
        "colab": {
          "base_uri": "https://localhost:8080/"
        },
        "id": "EeWz0BInYO-R",
        "outputId": "0d9e79cb-f325-4beb-a222-82562cf78ed4"
      },
      "source": [
        "# pow2 and pow3 are nice names, but you can use any name you like\r\n",
        "alice = return_power(10)\r\n",
        "\r\n",
        "alice(2)"
      ],
      "execution_count": null,
      "outputs": [
        {
          "output_type": "execute_result",
          "data": {
            "text/plain": [
              "1024"
            ]
          },
          "metadata": {
            "tags": []
          },
          "execution_count": 87
        }
      ]
    },
    {
      "cell_type": "code",
      "metadata": {
        "id": "vNEyp-fsZfgJ"
      },
      "source": [
        "# Let's make a function that turns functions into functions\r\n",
        "# In this case, it turns f into a new function that just calls f twice.\r\n",
        "def return_twice_doer(f):\r\n",
        "    \"\"\"Return a new function which calls f twice\"\"\"\r\n",
        "    def inner(*args,**kwargs):\r\n",
        "        \"\"\"Call a certain function twice\"\"\"\r\n",
        "        f(*args,**kwargs)\r\n",
        "        f(*args,**kwargs)\r\n",
        "    return inner"
      ],
      "execution_count": null,
      "outputs": []
    },
    {
      "cell_type": "code",
      "metadata": {
        "id": "qW7C8bm7Z_YK"
      },
      "source": [
        "def eureka():\r\n",
        "  \"\"\"Shout eureka\"\"\"\r\n",
        "  print(\"Eureka! I have discovered Python!\")\r\n",
        "\r\n",
        "eureka_twice = return_twice_doer(eureka)"
      ],
      "execution_count": null,
      "outputs": []
    },
    {
      "cell_type": "code",
      "metadata": {
        "colab": {
          "base_uri": "https://localhost:8080/"
        },
        "id": "X6ovmJ3KixtH",
        "outputId": "72bde639-2f59-46fa-d4d0-8f681d67b7e1"
      },
      "source": [
        "eureka_twice()"
      ],
      "execution_count": null,
      "outputs": [
        {
          "output_type": "stream",
          "text": [
            "Eureka! I have discovered Python!\n",
            "Eureka! I have discovered Python!\n"
          ],
          "name": "stdout"
        }
      ]
    },
    {
      "cell_type": "code",
      "metadata": {
        "id": "ha6Gb7ULi1g-"
      },
      "source": [
        "# Another way to use return_twice_doer is to \r\n",
        "# build a function and then REPLACE that with \r\n",
        "# the modified version created by return_twice_doer, e.g.\r\n",
        "\r\n",
        "def hi():\r\n",
        "  \"\"\"Informal greeting\"\"\"\r\n",
        "  print(\"Hi.\")\r\n",
        "\r\n",
        "# obliterate the original definition of `hi`\r\n",
        "# replacing it with a new function that prints \"Hi.\" twice\r\n",
        "hi = return_twice_doer(hi)"
      ],
      "execution_count": null,
      "outputs": []
    },
    {
      "cell_type": "code",
      "metadata": {
        "colab": {
          "base_uri": "https://localhost:8080/"
        },
        "id": "OjDjPn0ljNRc",
        "outputId": "45a16855-2843-4d3d-d747-e6a7d2f4604f"
      },
      "source": [
        "hi()"
      ],
      "execution_count": null,
      "outputs": [
        {
          "output_type": "stream",
          "text": [
            "Hi.\n",
            "Hi.\n"
          ],
          "name": "stdout"
        }
      ]
    },
    {
      "cell_type": "code",
      "metadata": {
        "id": "nRk9C-5wbpr0"
      },
      "source": [
        "# Decorator syntax is just a shorthand for defining\r\n",
        "# and then immediately modifying a function\r\n",
        "# e.g.\r\n",
        "\r\n",
        "@return_twice_doer\r\n",
        "def hello():\r\n",
        "  \"\"\"Say hello\"\"\"\r\n",
        "  print(\"Hello.  I hope you are having a good week.\")\r\n",
        "\r\n",
        "# The block above is equivalent to the function definition without\r\n",
        "# @return_twice_doer followed by:\r\n",
        "# hello = return_twice_doer(hello)"
      ],
      "execution_count": null,
      "outputs": []
    },
    {
      "cell_type": "code",
      "metadata": {
        "id": "EkEXQ_iRagsi"
      },
      "source": [
        "# The decorator has modified hello() so it actually runs twice!\r\n",
        "# hello()"
      ],
      "execution_count": null,
      "outputs": []
    },
    {
      "cell_type": "code",
      "metadata": {
        "id": "SDB4ABDmb_19"
      },
      "source": [
        "# Another decorator example\r\n",
        "def fnlog(f):\r\n",
        "  \"\"\"Decorator that adds a message to each function call\"\"\"\r\n",
        "  def flogged(*args,**kwargs):\r\n",
        "    \"\"\"Call a function, but with a message before and after.\"\"\"\r\n",
        "    print(\"I am about to call {}.\".format(f.__name__))\r\n",
        "    ret = f(*args,**kwargs)\r\n",
        "    print(\"I just called {}.\".format(f.__name__))\r\n",
        "    return ret  # Whatever f returned, we return too\r\n",
        "  return flogged"
      ],
      "execution_count": null,
      "outputs": []
    },
    {
      "cell_type": "code",
      "metadata": {
        "id": "6cIENyF_ck3t"
      },
      "source": [
        "# Using the fnlog decorator example\r\n",
        "\r\n",
        "@fnlog\r\n",
        "def goodbye():\r\n",
        "  \"\"\"Say goodbye\"\"\"\r\n",
        "  print(\"Bye!\")\r\n",
        "\r\n",
        "@fnlog\r\n",
        "def count_to(n):\r\n",
        "  \"\"\"Print the integers from 1 to n inclusive\"\"\"\r\n",
        "  for i in range(n):\r\n",
        "    print(i+1)\r\n",
        "\r\n",
        "@fnlog\r\n",
        "def square(x):\r\n",
        "  \"\"\"Square a number\"\"\"\r\n",
        "  return x*x"
      ],
      "execution_count": null,
      "outputs": []
    },
    {
      "cell_type": "code",
      "metadata": {
        "colab": {
          "base_uri": "https://localhost:8080/"
        },
        "id": "4xeMHbtXfixf",
        "outputId": "4196ddd6-1689-472c-a721-abf8720291d5"
      },
      "source": [
        "goodbye()"
      ],
      "execution_count": null,
      "outputs": [
        {
          "output_type": "stream",
          "text": [
            "I am about to call goodbye.\n",
            "Bye!\n",
            "I just called goodbye.\n"
          ],
          "name": "stdout"
        }
      ]
    },
    {
      "cell_type": "code",
      "metadata": {
        "colab": {
          "base_uri": "https://localhost:8080/"
        },
        "id": "cAH1jG4Pfg-5",
        "outputId": "7f31b473-bc5f-4b23-981b-b7cb9e2c60aa"
      },
      "source": [
        "count_to(5)"
      ],
      "execution_count": null,
      "outputs": [
        {
          "output_type": "stream",
          "text": [
            "I am about to call count_to.\n",
            "1\n",
            "2\n",
            "3\n",
            "4\n",
            "5\n",
            "I just called count_to.\n"
          ],
          "name": "stdout"
        }
      ]
    },
    {
      "cell_type": "code",
      "metadata": {
        "colab": {
          "base_uri": "https://localhost:8080/"
        },
        "id": "_Xg8xgcEctk7",
        "outputId": "2bd9b679-b99f-45f4-9ec7-37f297f4584c"
      },
      "source": [
        "square(6)"
      ],
      "execution_count": null,
      "outputs": [
        {
          "output_type": "stream",
          "text": [
            "I am about to call square.\n",
            "I just called square.\n"
          ],
          "name": "stdout"
        },
        {
          "output_type": "execute_result",
          "data": {
            "text/plain": [
              "36"
            ]
          },
          "metadata": {
            "tags": []
          },
          "execution_count": 85
        }
      ]
    },
    {
      "cell_type": "markdown",
      "metadata": {
        "id": "E290YpIEju2g"
      },
      "source": [
        "### Decorators in the Python standard library"
      ]
    },
    {
      "cell_type": "code",
      "metadata": {
        "colab": {
          "base_uri": "https://localhost:8080/"
        },
        "id": "46COHYc4dqGe",
        "outputId": "07449905-e8c8-4e1e-959c-65c68b03c8d9"
      },
      "source": [
        "import time\r\n",
        "import functools\r\n",
        "\r\n",
        "@functools.lru_cache(100)\r\n",
        "def slow_square(x):\r\n",
        "  \"\"\"Square x, but take a long time to do it\"\"\"\r\n",
        "  time.sleep(2)\r\n",
        "  return x*x\r\n",
        "\r\n",
        "# This will take a while, because it's the first time\r\n",
        "print(\"Computing 7*7 for the first time:\")\r\n",
        "print(slow_square(7))\r\n",
        "\r\n",
        "# But this will be quick, because the value is remembered\r\n",
        "# by the LRU cache decorator\r\n",
        "print(\"Computing 7*7 for the second time:\")\r\n",
        "print(slow_square(7))"
      ],
      "execution_count": null,
      "outputs": [
        {
          "output_type": "stream",
          "text": [
            "Computing 7*7 for the first time:\n",
            "49\n",
            "Computing 7*7 for the second time:\n",
            "49\n"
          ],
          "name": "stdout"
        }
      ]
    }
  ]
}
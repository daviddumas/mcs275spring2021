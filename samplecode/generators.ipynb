{
 "cells": [
  {
   "cell_type": "markdown",
   "metadata": {},
   "source": [
    "# MCS 275 Spring 2021 Lecture 44\n",
    "## Live coding generator examples"
   ]
  },
  {
   "cell_type": "markdown",
   "metadata": {},
   "source": [
    "This version computes everything before returning a list."
   ]
  },
  {
   "cell_type": "code",
   "execution_count": 5,
   "metadata": {},
   "outputs": [],
   "source": [
    "def cubes(n):\n",
    "    \"\"\"Return the first n cubes of natural numbers\"\"\"\n",
    "    L = []\n",
    "    for x in range(1,n+1):\n",
    "        L.append(x**3)\n",
    "    return L"
   ]
  },
  {
   "cell_type": "markdown",
   "metadata": {},
   "source": [
    "This version returns immediately and gives a generator, which produces the items as needed for iteration."
   ]
  },
  {
   "cell_type": "code",
   "execution_count": 6,
   "metadata": {},
   "outputs": [],
   "source": [
    "def cubesgen(n):\n",
    "    \"\"\"Return the first n cubes of natural numbers, lazily\"\"\"\n",
    "    for x in range(1,n+1):\n",
    "        yield x**3"
   ]
  },
  {
   "cell_type": "code",
   "execution_count": 7,
   "metadata": {},
   "outputs": [
    {
     "data": {
      "text/plain": [
       "[1, 8, 27, 64, 125]"
      ]
     },
     "execution_count": 7,
     "metadata": {},
     "output_type": "execute_result"
    }
   ],
   "source": [
    "cubes(5)"
   ]
  },
  {
   "cell_type": "code",
   "execution_count": 8,
   "metadata": {},
   "outputs": [
    {
     "data": {
      "text/plain": [
       "<generator object cubesgen at 0x7f79c82a5190>"
      ]
     },
     "execution_count": 8,
     "metadata": {},
     "output_type": "execute_result"
    }
   ],
   "source": [
    "cubesgen(5)"
   ]
  },
  {
   "cell_type": "code",
   "execution_count": 9,
   "metadata": {},
   "outputs": [
    {
     "name": "stdout",
     "output_type": "stream",
     "text": [
      "Here is a cube: 1\n",
      "Here is a cube: 8\n",
      "Here is a cube: 27\n",
      "Here is a cube: 64\n",
      "Here is a cube: 125\n"
     ]
    }
   ],
   "source": [
    "for y in cubes(5):\n",
    "    print(\"Here is a cube:\",y)"
   ]
  },
  {
   "cell_type": "markdown",
   "metadata": {},
   "source": [
    "Generators are most often used as iterables directly in for loops:"
   ]
  },
  {
   "cell_type": "code",
   "execution_count": 10,
   "metadata": {},
   "outputs": [
    {
     "name": "stdout",
     "output_type": "stream",
     "text": [
      "Here is a cube: 1\n",
      "Here is a cube: 8\n",
      "Here is a cube: 27\n",
      "Here is a cube: 64\n",
      "Here is a cube: 125\n"
     ]
    }
   ],
   "source": [
    "for y in cubesgen(5):  # MOST COMMON\n",
    "    print(\"Here is a cube:\",y)"
   ]
  },
  {
   "cell_type": "markdown",
   "metadata": {},
   "source": [
    "But you can also save the return value and request items manually:"
   ]
  },
  {
   "cell_type": "code",
   "execution_count": 22,
   "metadata": {},
   "outputs": [],
   "source": [
    "g = cubesgen(5)   # MUCH LESS COMMON"
   ]
  },
  {
   "cell_type": "code",
   "execution_count": 23,
   "metadata": {},
   "outputs": [
    {
     "data": {
      "text/plain": [
       "1"
      ]
     },
     "execution_count": 23,
     "metadata": {},
     "output_type": "execute_result"
    }
   ],
   "source": [
    "next(g)  # now we can single-step the generator object until exhausted"
   ]
  },
  {
   "cell_type": "code",
   "execution_count": 24,
   "metadata": {},
   "outputs": [
    {
     "data": {
      "text/plain": [
       "8"
      ]
     },
     "execution_count": 24,
     "metadata": {},
     "output_type": "execute_result"
    }
   ],
   "source": [
    "next(g)"
   ]
  },
  {
   "cell_type": "code",
   "execution_count": 25,
   "metadata": {},
   "outputs": [
    {
     "data": {
      "text/plain": [
       "27"
      ]
     },
     "execution_count": 25,
     "metadata": {},
     "output_type": "execute_result"
    }
   ],
   "source": [
    "next(g)"
   ]
  },
  {
   "cell_type": "code",
   "execution_count": 26,
   "metadata": {},
   "outputs": [
    {
     "data": {
      "text/plain": [
       "64"
      ]
     },
     "execution_count": 26,
     "metadata": {},
     "output_type": "execute_result"
    }
   ],
   "source": [
    "next(g)"
   ]
  },
  {
   "cell_type": "code",
   "execution_count": 27,
   "metadata": {},
   "outputs": [
    {
     "data": {
      "text/plain": [
       "125"
      ]
     },
     "execution_count": 27,
     "metadata": {},
     "output_type": "execute_result"
    }
   ],
   "source": [
    "next(g)"
   ]
  },
  {
   "cell_type": "code",
   "execution_count": 28,
   "metadata": {},
   "outputs": [
    {
     "ename": "StopIteration",
     "evalue": "",
     "output_type": "error",
     "traceback": [
      "\u001b[0;31m---------------------------------------------------------------------------\u001b[0m",
      "\u001b[0;31mStopIteration\u001b[0m                             Traceback (most recent call last)",
      "\u001b[0;32m<ipython-input-28-e734f8aca5ac>\u001b[0m in \u001b[0;36m<module>\u001b[0;34m\u001b[0m\n\u001b[0;32m----> 1\u001b[0;31m \u001b[0mnext\u001b[0m\u001b[0;34m(\u001b[0m\u001b[0mg\u001b[0m\u001b[0;34m)\u001b[0m\u001b[0;34m\u001b[0m\u001b[0;34m\u001b[0m\u001b[0m\n\u001b[0m",
      "\u001b[0;31mStopIteration\u001b[0m: "
     ]
    }
   ],
   "source": [
    "next(g)"
   ]
  },
  {
   "cell_type": "code",
   "execution_count": 52,
   "metadata": {},
   "outputs": [],
   "source": [
    "def allcubes():\n",
    "    \"\"\"Return the cubes of the natural numbers, lazily\"\"\"\n",
    "    x = 1\n",
    "    while True:\n",
    "        yield x**3\n",
    "        x += 1"
   ]
  },
  {
   "cell_type": "code",
   "execution_count": 54,
   "metadata": {},
   "outputs": [
    {
     "name": "stdout",
     "output_type": "stream",
     "text": [
      "1\n",
      "8\n",
      "27\n",
      "64\n",
      "125\n",
      "216\n",
      "343\n",
      "512\n",
      "729\n",
      "1000\n",
      "1331\n",
      "1728\n",
      "2197\n",
      "2744\n",
      "3375\n",
      "4096\n",
      "4913\n",
      "5832\n",
      "6859\n",
      "8000\n",
      "9261\n"
     ]
    }
   ],
   "source": [
    "# Print all the cubes with at most 4 digits\n",
    "for y in allcubes():\n",
    "    if len(str(y))>4:\n",
    "        break # Essential to have a break, as this iterable is infinite!\n",
    "    print(y)"
   ]
  },
  {
   "cell_type": "markdown",
   "metadata": {},
   "source": [
    "### Generator example for exploring links in HTML files."
   ]
  },
  {
   "cell_type": "code",
   "execution_count": 58,
   "metadata": {},
   "outputs": [],
   "source": [
    "from bs4 import BeautifulSoup\n",
    "import os\n",
    "\n",
    "\n",
    "\n",
    "def links_in_html_doc(fn):\n",
    "    \"\"\"Return the destinations of http(s) links in an HTML file\"\"\"\n",
    "    with open(fn) as infile:\n",
    "        soup = BeautifulSoup(infile)\n",
    "        for atag in soup.find_all(\"a\"):\n",
    "            url = atag[\"href\"]\n",
    "            if str(url).startswith(\"http\"):\n",
    "                yield url\n",
    "\n",
    "def links_in_html_dir(dirname):\n",
    "    \"\"\"Return the destinations of http(s) links in all HTML files\n",
    "    in the directory specified by `dirname`\"\"\"\n",
    "    for fn in os.listdir(dirname):\n",
    "        if not fn.endswith(\".html\"):\n",
    "            continue\n",
    "        yield from links_in_html_doc(os.path.join(dirname,fn))"
   ]
  },
  {
   "cell_type": "code",
   "execution_count": null,
   "metadata": {},
   "outputs": [],
   "source": [
    "# Just print all the links in all the HTML files in one directory\n",
    "\n",
    "# You'll need to set this to a directory containing some HTML files\n",
    "# In the course sample code repo, this relative path contains the\n",
    "# HTML slide presentations for several of our lectures.\n",
    "HTMLDIR = \"web/html-for-scraping\"\n",
    "\n",
    "for link in links_in_html_dir(HTMLDIR):\n",
    "    print(link)"
   ]
  },
  {
   "cell_type": "code",
   "execution_count": null,
   "metadata": {},
   "outputs": [],
   "source": [
    "# Make a histogram showing most common link destinations\n",
    "# (assume HTMLDIR is set, as in previous cell)\n",
    "\n",
    "from collections import defaultdict\n",
    "\n",
    "hist = defaultdict(int)\n",
    "\n",
    "for link in links_in_html_dir(HTMLDIR):\n",
    "    hist[link] += 1\n",
    "\n",
    "for link,count in sorted(hist.items(),key=lambda pair:-pair[1]):\n",
    "    print(\"Appears\",count,\"times:\",link)"
   ]
  },
  {
   "cell_type": "markdown",
   "metadata": {},
   "source": [
    "### List and generator comprehensions"
   ]
  },
  {
   "cell_type": "code",
   "execution_count": 46,
   "metadata": {},
   "outputs": [
    {
     "data": {
      "text/plain": [
       "[0, 1, 8, 27, 64]"
      ]
     },
     "execution_count": 46,
     "metadata": {},
     "output_type": "execute_result"
    }
   ],
   "source": [
    "[ x**3 for x in range(5) ]"
   ]
  },
  {
   "cell_type": "code",
   "execution_count": 48,
   "metadata": {},
   "outputs": [
    {
     "data": {
      "text/plain": [
       "<generator object <genexpr> at 0x7f79b8b3ed60>"
      ]
     },
     "execution_count": 48,
     "metadata": {},
     "output_type": "execute_result"
    }
   ],
   "source": [
    "( x**3 for x in range(5) )"
   ]
  },
  {
   "cell_type": "code",
   "execution_count": 50,
   "metadata": {},
   "outputs": [
    {
     "data": {
      "text/plain": [
       "2499999500000025000000000000"
      ]
     },
     "execution_count": 50,
     "metadata": {},
     "output_type": "execute_result"
    }
   ],
   "source": [
    "sum( [ x**3 for x in range(10_000_000) ] ) # uses lots of memory"
   ]
  },
  {
   "cell_type": "code",
   "execution_count": 51,
   "metadata": {},
   "outputs": [
    {
     "data": {
      "text/plain": [
       "2499999500000025000000000000"
      ]
     },
     "execution_count": 51,
     "metadata": {},
     "output_type": "execute_result"
    }
   ],
   "source": [
    "sum( x**3 for x in range(10_000_000) ) # uses very little of memory"
   ]
  },
  {
   "cell_type": "markdown",
   "metadata": {},
   "source": [
    "Generator comprehensions are especially nice when combined with aggregating functions like `any` or `all` which may terminate early.  For example, `any( GENERATOR_COMPREHENSION )` will evaluate to `True` as soon as the generator yields its first truthy value; subsequent values are not computed.  In contrast, `any( [ LIST_COMPREHENSION ])` will always generate the entire list before searching for the first truthy value."
   ]
  }
 ],
 "metadata": {
  "kernelspec": {
   "display_name": "Python 3",
   "language": "python",
   "name": "python3"
  },
  "language_info": {
   "codemirror_mode": {
    "name": "ipython",
    "version": 3
   },
   "file_extension": ".py",
   "mimetype": "text/x-python",
   "name": "python",
   "nbconvert_exporter": "python",
   "pygments_lexer": "ipython3",
   "version": "3.8.5"
  }
 },
 "nbformat": 4,
 "nbformat_minor": 4
}

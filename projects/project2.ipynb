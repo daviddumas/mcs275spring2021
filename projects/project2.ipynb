{
 "cells": [
  {
   "cell_type": "markdown",
   "metadata": {},
   "source": [
    "# Project 2\n",
    "\n",
    "## MCS 275 Spring 2021 - David Dumas"
   ]
  },
  {
   "cell_type": "markdown",
   "metadata": {},
   "source": [
    "## Instructions:\n",
    "\n",
    "### Deadline\n",
    "This project must be submitted to Gradescope by **6:00pm CST on Friday, February 26, 2021**.\n",
    "\n",
    "### Collaboration policy & academic honesty\n",
    "This project must be completed **individually**.  Seeking or giving aid on this assignment is prohibited; doing so constitutes academic misconduct which can have serious consequences.  The only resources you are allowed to consult are the ones listed below.  It is very important to follow these rules.  If you are unsure about whether something is allowed, ask.  The course syllabus contains more information about the course and university policies regarding academic honesty.\n",
    "\n",
    "### Resources you are allowed to consult\n",
    "* All documents and videos posted to the course web page (including lecture slides, lecture videos, the Python tour)\n",
    "* Course textbooks\n",
    "\n",
    "### What to do if these instructions are unclear\n",
    "Contact the instructor or TA by email, or visit office hours.\n",
    "\n",
    "### What to do if you're stuck\n",
    "Contact the instructor or TA by email, or visit office hours."
   ]
  },
  {
   "cell_type": "markdown",
   "metadata": {},
   "source": [
    "## Conceptual overview\n",
    "\n",
    "This project focuses on **recursion**, both as a programming tool and as a concept that is used in mathematical definitions.  This project is also more theoretical than Project 1.  Instead of providing long and highly detailed instructions for many classes and methods, this project asks you to write just a few functions that do more complicated things.\n",
    "\n",
    "The project is based on some definitions of types of strings, which were made up for this project.  You'll need to review the definitions below carefully to complete the project.\n",
    "\n",
    "### Eggs\n",
    "\n",
    "For the purposes of this assignment, we'll say that a string is an **egg** if its length is 3, and if the last two characters are equal.  Thus:\n",
    "* `\"egg\"` is an egg\n",
    "* `\"fee\"` is an egg\n",
    "* `\"755\"` is an egg\n",
    "* `\"888\"` is an egg (no requirement that the first character is different!)\n",
    "* `\"wit\"` is not an egg (last two characters not equal)\n",
    "* `\"stratospheric\"` is not an egg (length not equal to 3)\n",
    "* `\"id\"` is not an egg (length not equal to 3)\n",
    "* `\"x\"` is not an egg (length not equal to 3)\n",
    "* The empty string is not an egg (length not equal to 3)\n",
    "\n",
    "Note that another way to describe an egg is to say that it can be written as `A+B+B` where `A` and `B` are one-character strings.\n",
    "\n",
    "(The reason for the name is that \"egg\" is a common noun in English that is an example of this class of strings.)\n",
    "\n",
    "### Supereggs\n",
    "\n",
    "We say that a string is a **superegg** if it is possible to write the string as a concatenation `A + B + B` where `A` and `B` are nonempty strings satisfying:\n",
    "1. `A` is either a single character or is itself a superegg, and\n",
    "1. `B` is a single character\n",
    "\n",
    "Notice that this definition is recursive (supereggs are defined in terms of other supereggs).  Here are some examples.\n",
    "\n",
    "* Any egg is a superegg, because you can take `A` and `B` to be single characters\n",
    "* `\"abbcc\"` is a superegg, because you can write it as `A+B+B` with `A=\"abb\"` (which is an egg, and hence a superegg) and `B=\"C\"\n",
    "* `\"noooooo\"` is a superegg; it splits as `A+B+B` with `A=\"noooo\"` and `B=\"o\"`, so we just need to show that `\"noooo\"` is a superegg:\n",
    "    * `\"noooo\"` is a superegg because it splits as `A+B+B` with `A=\"noo\"` and `B=\"o\"`, and this `A` is an egg, hence a superegg.\n",
    "* `\"7225533\"` is a superegg (as you can check)\n",
    "* `\"waaa\"` is not a superegg.  If it was, then it would need to split as `A+B+B` with `A=\"wa\"`, but that is neither a superegg nor a single character.\n",
    "* `\"reconsidering\"` is not a superegg, because it doesn't end with two copies of the same character (whereas any superegg must, as `B` is a single character)\n",
    "* `\"foofee\"` is not a superegg, because it would need to split as `A+B+B` with `A=\"foof\"`, and `\"foof\"` is neither a single character nor a superegg (because it doesn't end with two copies of the same character).\n",
    "\n",
    "\n",
    "### Hypereggs\n",
    "\n",
    "We say that a string is a **hyperegg** if it is possible to write the string as a concatenation `A + B + B` where `A` and `B` are nonempty strings satisfying:\n",
    "1. `A` is either a single character or is itself a hyperegg, and\n",
    "1. `B` is either a single character or is itself a hyperegg\n",
    "\n",
    "Examples:\n",
    "* Any superegg is also a hyperegg, because you can take `B` to be a single character\n",
    "* As a special case of the example above, any egg is also a hyperegg\n",
    "* `\"fooss\"` is a hyperegg, taking `A=\"foo\"` (which is a hyperegg) and `B=\"s\"`\n",
    "* `\"alooloo\"` is a hyperegg, taking `A=\"l\"` and `B=\"loo\"` (which is a hyperegg)\n",
    "* `\"feefoofoo\"` is a hyperegg, taking `A=\"fee\"` (which is a hyperegg) and `B=\"foo\"` (which is a hyperegg)\n",
    "* `\"aseeseetoomiimiitoomiimii\"` is a hyperegg (you should check this!)\n",
    "* `\"gullability\"` is not a hyperegg, because there is no way to express it as `A+B+B` with `B` a nonempty string\n",
    "* `\"deedotdot\"` is not a hyperegg, because the only way to express it as `A+B+B` with `B` a nonempty string is to take `B=\"dot\"`, and `\"dot\"` is not a hyperegg; here's why:\n",
    "    * If `\"dot\"` were a hyperegg, then it would need to be expressed as `A+B+B` with `A` and `B` each being a single character, for otherwise the concatenation would have more than 3 characters.  But then it would follow that the last two characters are equal, which is not the case for `\"dot\"`.\n"
   ]
  },
  {
   "cell_type": "markdown",
   "metadata": {},
   "source": [
    "## What you need to do\n",
    "\n",
    "Create a module `eggs` (in a file `eggs.py`) that contains the four functions documented below.  Submit `eggs.py` to gradescope.\n",
    "\n",
    "* `is_egg(s)`\n",
    "    * Returns `True` if `s` is an egg, otherwise returns `False`.\n",
    "    * Implemented using any method you like.\n",
    "* `is_superegg_iterative(s)`\n",
    "    * Returns `True` if `s` is a superegg, otherwise returns `False`.\n",
    "    * **Must be purely iterative (i.e. no recursion allowed).**\n",
    "* `is_superegg_recursive(s)`\n",
    "    * Returns `True` if `s` is a superegg, otherwise returns `False`.\n",
    "    * **Must use recursion in an essential way (calling itself).**\n",
    "* `is_hyperegg(s)`\n",
    "    * Returns `True` if `s` is a hyperegg, otherwise returns `False`.\n",
    "    * **Must use recursion in an essential way (calling itself).**\n",
    "\n",
    "For all of these functions, you can assume that the only argument, `s`, is a string.  You do not need to do any checking to detect an argument of another type.\n",
    "\n",
    "Also, for functions that are required to use recursion, loops are permitted in the function body.  However, a purely iterative solution it not acceptable.\n",
    "\n",
    "To receive full credit, your code must also follow the additional requirements in the next section."
   ]
  },
  {
   "cell_type": "markdown",
   "metadata": {},
   "source": [
    "## Other requirements\n",
    "\n",
    "This section contains rules your code must follow, in addition to it needing to do everything documented in the previous section.\n",
    "\n",
    "### Coding standards\n",
    "\n",
    "Like everything you submit for credit in MCS 275, your code must follow the rules in the course [coding standards document](https://dumas.io/teaching/2021/spring/mcs275/doc/codestd.pdf).\n",
    "\n",
    "\n",
    "### No extra code in `eggs.py`\n",
    "\n",
    "The file `eggs.py` should define the necessary functions, and when imported as a module, it should not do anything else.  That is, running the Python REPL and typing\n",
    "```\n",
    ">>> import eggs\n",
    "```\n",
    "should succeed (no exceptions), should make the functions `eggs.is_hyperegg` etc. availabe, and should not print or do anything else.\n",
    "\n",
    "It *is* permissible to put some test code in `eggs.py` outside of all the function bodies as long as you put it inside a block that looks like this:\n",
    "```\n",
    "if __name__==\"__main__\":\n",
    "    # TEST CODE HERE\n",
    "```\n",
    "(The line containing `if` should not be indented at all.)  This allows you to create tests that will run when the file is executed as a script, e.g. with\n",
    "```\n",
    "python eggs.py\n",
    "```\n",
    "but which are not run when it is imported as a module.\n",
    "\n",
    "### No character set limitations\n",
    "\n",
    "Your functions should allow anything that Python considers to be a character to appear in the string.  You must not impose extra assumptions (e.g. assuming all of the characters will be in the set `A-Z`, `a-z`, or `0-9` would be an error)."
   ]
  },
  {
   "cell_type": "markdown",
   "metadata": {},
   "source": [
    "## Sample data\n",
    "\n",
    "During the week of Feb 15-19, 2021, a set of text files will be released containing examples of strings that are eggs, supereggs, hypereggs, and strings that do not belong to each of these categories.  Providing these is intended to help you test your project locally (and before the autograder is ready).  The project description will be updated with links to the data files when they are released."
   ]
  },
  {
   "cell_type": "markdown",
   "metadata": {},
   "source": [
    "## Autograder release date\n",
    "\n",
    "The Project 2 autograder will be released (in Gradescope) on or before Mon Feb 22, 2021."
   ]
  },
  {
   "cell_type": "markdown",
   "metadata": {},
   "source": [
    "## Revision History\n",
    "\n",
    "* 2021-02-11 Initial publication"
   ]
  }
 ],
 "metadata": {
  "kernelspec": {
   "display_name": "Python 3",
   "language": "python",
   "name": "python3"
  },
  "language_info": {
   "codemirror_mode": {
    "name": "ipython",
    "version": 3
   },
   "file_extension": ".py",
   "mimetype": "text/x-python",
   "name": "python",
   "nbconvert_exporter": "python",
   "pygments_lexer": "ipython3",
   "version": "3.8.5"
  }
 },
 "nbformat": 4,
 "nbformat_minor": 4
}

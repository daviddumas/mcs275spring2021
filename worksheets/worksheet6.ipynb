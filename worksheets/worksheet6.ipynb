{
 "metadata": {
  "language_info": {
   "codemirror_mode": {
    "name": "ipython",
    "version": 3
   },
   "file_extension": ".py",
   "mimetype": "text/x-python",
   "name": "python",
   "nbconvert_exporter": "python",
   "pygments_lexer": "ipython3",
   "version": "3.8.5-final"
  },
  "orig_nbformat": 2,
  "kernelspec": {
   "name": "python3",
   "display_name": "Python 3",
   "language": "python"
  }
 },
 "nbformat": 4,
 "nbformat_minor": 2,
 "cells": [
  {
   "source": [
    "# Worksheet 6\n",
    "\n",
    "## MCS 275 Spring 2021 - Jennifer Vaccaro"
   ],
   "cell_type": "markdown",
   "metadata": {}
  },
  {
   "source": [
    "### Instructions:\n",
    "\n",
    "In your breakout room groups, read the instructions for the following problems and write the functions/scripts to solve them. Each problem has multiple parts, where the first step involves writing a recursive function, and later parts involve modifying the function to highlight features of recursive functions and sequences. Depending on time, you may wish to complete all of problem 1, the first parts of 2-5, and then the second parts of whichever 2-5 you found most interesting. \n",
    "\n",
    "Some problems involve counting recursive steps, tracking function runtime, or memoization. [Here](https://github.com/daviddumas/mcs275spring2021/blob/master/samplecode/recursion/decs.py) is a decorator module that you may download and import to help implement these features.\n",
    "\n",
    "Here are links to relevant recent lectures:\n",
    "* Lecture "
   ],
   "cell_type": "markdown",
   "metadata": {}
  },
  {
   "source": [
    "## 1. Great sequence and decorators\n",
    "\n",
    "Let's define a sequence of Great numbers $\\{G_n\\}_{n\\geq0}$ as follows: \n",
    "\n",
    "* Base cases: $G_0 = 1$, $G_1 = 3$, $G_2 = 5$\n",
    "* Recursive step: $G_n = G_{n-1} - 3*G_{n-3}$\n",
    "\n",
    "So the first several Great numbers are 1,3,5,2,-7,-22,-28,-8.\n",
    "\n",
    "Write a function great(n) that calculates the nth Great number recursively. That is, the function great should call itself for some inputs n.\n",
    "\n",
    "Test cases:"
   ],
   "cell_type": "markdown",
   "metadata": {}
  },
  {
   "cell_type": "code",
   "execution_count": null,
   "metadata": {},
   "outputs": [],
   "source": [
    "print(\"The 1st Great number is\",great(1))\n",
    "print(\"The 3rd Great number is\",great(3))\n",
    "print(\"The 10th Great number is\",great(10))"
   ]
  },
  {
   "source": [
    "For the second part of this problem, you will use memoization. Memo-izing a function allows you to \"save\" previous pairs of inputs and outputs as base cases, so you can use less recursive depth.\n",
    "\n",
    "For example, suppose you calculate great(3) and then calculate great(5). Fince $G_5$ = $G_4$ - 3*$G_2$, and you have already calculated $G_3$, $G_2$, your function could incorporate these previously calculated values as base cases.\n",
    "\n",
    "Write another function called great\\_memo(n) that uses the memoization decorator from decs.py. Compare the performance of both great functions for inputs 1,10,50,100."
   ],
   "cell_type": "markdown",
   "metadata": {}
  },
  {
   "cell_type": "code",
   "execution_count": 1,
   "metadata": {},
   "outputs": [
    {
     "output_type": "stream",
     "name": "stdout",
     "text": [
      "\n"
     ]
    }
   ],
   "source": [
    "print(\"The 1st Great number is\",great(1), great_memo(1))\n",
    "print(\"The 10th Great number is\",great(10), great_memo(10))\n",
    "print(\"The 50th Great number is\",great(50), great_memo(50))\n",
    "print(\"The 100th Great number is\",great(100), great_memo(100))"
   ]
  },
  {
   "source": [
    "## 2. Unique Prime Factorization\n",
    "\n",
    "A prime number is an integer whose only divisors are 1 and itself. Primes include $2,3,5,7,11,...$ .By the Fundamental Theorem of Algebra, every positive integer $n\\geq 2$ can be factored into a product of primes. The collection of primes is called the unique prime factorization, since it is unique up to reordering.\n",
    "\n",
    "For example,\n",
    "* $ 10 = 2*5$\n",
    "* $ 30 = 2*3*5$\n",
    "* $ 45 = 3*3*5$\n",
    "* $ 64 = 2*2*2*2*2*2$ (Note that the same prime may appear multiple times.)\n",
    "\n",
    "Write a recursive function ufp(n) that, given an integer $n \\geq 2$, returns a list representing the unique prime factorization. Note that the list can contain multiple entries with the same prime number.\n",
    "\n",
    "When solving this problem, consider the following...\n",
    "* What are the base cases? (For what inputs will ufp(n) return a list with one entry?)\n",
    "* What is the recursive step? (How do we break ufp(n) into pieces which incorporate ufp called on a smaller input?)\n",
    "\n",
    "Test cases:"
   ],
   "cell_type": "markdown",
   "metadata": {}
  },
  {
   "cell_type": "code",
   "execution_count": null,
   "metadata": {},
   "outputs": [],
   "source": [
    "print(\"The prime factorization of 15 is\",ufp(15))\n",
    "print(\"The prime factorization of 81 is\",ufp(81))\n",
    "print(\"The prime factorization of 17 is\",ufp(17))"
   ]
  },
  {
   "source": [
    "The greatest common denominator gcd(a,b) is the largest integer that evenly divides both a and b. One way to calculate the gcd is to use the product of all common prime factors of a and b. Write a function gcd(a,b) that calls your function ufp. \n",
    "\n",
    "As an added challenge, can you improve the performance of ufp and gcd using memoization?"
   ],
   "cell_type": "markdown",
   "metadata": {}
  },
  {
   "cell_type": "code",
   "execution_count": null,
   "metadata": {},
   "outputs": [],
   "source": []
  },
  {
   "source": [
    "## 3. Palindrome Sandwiches\n",
    "\n",
    "A palindrome is a string that is the same forwards and backwards.\n",
    "\n",
    "An n-palindrome sandwich is a string of the form $AB\\bar A$ where $A$ is a string, $B$ is a string of length n, and $\\bar A$ is $A$ backwards. That is to say that $A\\bar A$ is a palindrome, but $B$ need not be a palindrome. Each of $A$, $B$, and $\\bar A$ must be non-empty, so the shortest 3-palindrome sandwich is of length 5.\n",
    "\n",
    "Examples:\n",
    "* \"racecar\" is a 1-palindrome sandwich where $A$=\"rac\", $B$=\"e\", and $\\bar A$=\"car\". It's also a 2-, 3-, and 4-palindrome sandwich, since it's a palindrome of length 7.\n",
    "* \"noHATon\" is a 3-palindrome sandwich where $A$=\"no\", $B$=\"HAT\", and $\\bar A$=\"on\".\n",
    "* \"goodBYEgood\" is NOT an n-palindrome sandwich for any n.\n",
    "* \"squirrel\" is NOT an n-palindrome sandwich for any n.\n",
    "\n",
    "Write a recursive function is\\_palindrome3\\_sandwich(s) which determines whether s is an 3-palindrome sandwich. Think: what would be the base case, and what would be the recursive step?\n",
    "\n",
    "Test cases:\n"
   ],
   "cell_type": "markdown",
   "metadata": {}
  },
  {
   "cell_type": "code",
   "execution_count": null,
   "metadata": {},
   "outputs": [],
   "source": []
  },
  {
   "source": [
    "Next, an n-palindrome MULTIsandwich is a string s of the form $AB\\bar A$, where $A$ is $\\bar A$ backwards, and $B$ is a string of length n, but $A$ is either a string or is itself an n-palindrome (multi-)sandwich. The \"level\" of the multisandwich is the number of nested n-palindrome sandwiches, with non-sandwiches as level 0, and \"simple\" n-palindrome sandwiches as level 1.\n",
    "\n",
    "Examples:\n",
    "\n",
    "* \"racecarBRAKEracecar\" is a 5-palindrome multisandwich level 2, since it's a 5-palindrome sandwich, and since \"racecar\" is also a 5-palindrome sandwich.\n",
    "* \"helloGOODBYEolleh\" is a 7-palindrome multisandwich level 1.\n",
    "* \"barkDOGbark\" is a not a palindrome sandwich, so it has level 0.\n",
    "\n",
    "Write a recursive function palindrome3_multisandwich_level(s) which determines whether s is a 3-palindrome sandwich, and if so, then checks whether $A$ is a 3-palindrome sandwich, and so on, ultimately returning the level, i.e. the number of nested palindrome sandwiches. The function should return an integer, with 0 representing \"not a 3-palindrome multisandwich\", 1 representing a \"simple\" 3-palindrome multisandwich.\n",
    "\n",
    "This function may call is_palindrome3_sandwich from the previous part. Once again, consider what are your base cases, and what is your recursive step?\n",
    "\n",
    "Test cases:"
   ],
   "cell_type": "markdown",
   "metadata": {}
  },
  {
   "cell_type": "code",
   "execution_count": null,
   "metadata": {},
   "outputs": [],
   "source": []
  },
  {
   "source": [
    "## 4. Cantor set darts\n",
    "\n",
    "Consider the following sequence...\n",
    "* $C_0 = [0,1]$ the closed interval from 0 to 1\n",
    "* $C_1 = [0,1/3] \\cup [2/3, 1]$ the union of two closed intervals\n",
    "* $C_2 = [0,1/9] \\cup [2/9,1/3] \\cup [2/3,7/9] \\cup [8/9,1]$ the union of four closed intervals\n",
    "* $C_n = [0,(1/3)^{n}] \\cup ... \\cup [1-(1/3)^{n},1]$ the union of $2^{n}$ closed intervals\n",
    "\n",
    "Then the 2/3 Cantor set is the intersection of all $C_n$ from $n=0$ to infinity. Here is a [link](https://en.wikipedia.org/wiki/Cantor_set) for more information about the Cantor set.\n",
    "\n",
    "Your goal is to write a recursive function cantor_dart_throw(x) that, given a float input x, returns True or False whether x is in the Cantor set.\n",
    "\n",
    "(Suggestion: Define a default argument \"interval=None\". Within the function, check if interval is None, and in that case set interval=\\[0,1\\]. If x is outside interval, or in the middle third, return False. If x is inside the the 1st or 3rd third and within 8 decimal places of an interval endpoint, return True. Otherwise, return cantor_dart_throw(x, new_interval) with new_interval defined as the appropriate third.)\n",
    "\n",
    "Test cases:"
   ],
   "cell_type": "markdown",
   "metadata": {}
  },
  {
   "cell_type": "code",
   "execution_count": 1,
   "metadata": {},
   "outputs": [
    {
     "output_type": "stream",
     "name": "stdout",
     "text": [
      "Does Cantor set contain 15?  False\nDoes Cantor set contain 0?  True\nDoes Cantor set contain 1/9?  True\nDoes Cantor set contain 1/2?  False\n"
     ]
    }
   ],
   "source": [
    "print(\"Does Cantor set contain 15? \", cantor_dart_attempt(15))\n",
    "print(\"Does Cantor set contain 0? \", cantor_dart_attempt(0))\n",
    "print(\"Does Cantor set contain 1/9? \", cantor_dart_attempt(1/9))\n",
    "print(\"Does Cantor set contain 1/2? \", cantor_dart_attempt(1/2))"
   ]
  },
  {
   "source": [
    "For second part of this problem, you will want to determine how many recursive steps were required to get you an answer of True/False. You can modify cantor_dart_throw to use the count_calls decorator from decs.py. \n",
    "\n",
    "Then, find an input x that requires at least 10 calls. Can you find one that returns True and one that returns False? What is the maximum depth of recursion possible in your program?\n",
    "\n",
    "Test cases:"
   ],
   "cell_type": "markdown",
   "metadata": {}
  },
  {
   "cell_type": "code",
   "execution_count": null,
   "metadata": {},
   "outputs": [],
   "source": [
    "print(\"Does Cantor set contain 15? \", cantor_dart_attempt(15))\n",
    "print(\"Does Cantor set contain 0.1? \", cantor_dart_attempt(0.1))\n",
    "print(\"Does Cantor set contain 1/27? \", cantor_dart_attempt(1/27))\n",
    "print(\"Does Cantor set contain 1/2? \", cantor_dart_attempt(1/2))"
   ]
  },
  {
   "source": [
    "## 5. Create your own recursive sequence\n",
    "\n",
    "Consider the Fibonacci sequence $F_n$ defined in a lecture example, or the Great number sequence defined in Problem 1, and create a numerical recursive sequence $R_n$ using the following rules:\n",
    "\n",
    "* $R_n$ is a sequence defined on all $n\\geq 0$\n",
    "* Define several base cases $R_0$, ..., $R_{k-1}$\n",
    "* Define your recursive step. $R_n$ should be based on up at least 3 previous steps within the range of your $k$ base cases. You can add, multiply, subtract, etc.\n",
    "\n",
    "Encode your recursive sequence with a recursive function recursive(n)."
   ],
   "cell_type": "markdown",
   "metadata": {}
  },
  {
   "cell_type": "code",
   "execution_count": null,
   "metadata": {},
   "outputs": [],
   "source": [
    "# Write your own test cases here! Check your base cases first, then a few cases that call the recursive step."
   ]
  },
  {
   "source": [
    "Next, without changing your recursive step, can you choose base cases $R_0$, ..., $R_k$ such that...\n",
    "\n",
    "* For $n=0,1,...,100$, $R_n$ appears to approach positive infinity.\n",
    "* For $n=0,1,...,100$, $R_n$ appears to approach negative infinity.\n",
    "* Within $n=0,1,...,100$, $R_n$ has a cycle of size $k$ or greater.\n",
    "* For $n=0,1,...,100$, the ratio $R_n / R_{n+1}$ appears to approach a constant value."
   ],
   "cell_type": "markdown",
   "metadata": {}
  },
  {
   "cell_type": "code",
   "execution_count": null,
   "metadata": {},
   "outputs": [],
   "source": [
    "# Here's some test code to help you observe the values and ratios\n",
    "\n",
    "# Prints values R_0, R_5, R_10, ..., R_100 \n",
    "for n in range(21):\n",
    "    r_5n = recursive(5*n)\n",
    "    print(\"recursive({}) = {}\".format(5*n, r_5n))\n",
    "\n",
    "# Prints ratios R_5/R_4, R_10/R_9, ..., R_100/R_99\n",
    "r_n_minus_1 = recursive(0)\n",
    "for n in range(1,21):\n",
    "    r_5n = recursive(5*n)\n",
    "    r_5n_minus_1 = recursive(5*n-1)\n",
    "    print(\"ratio ({}/{}) = {}\".format(5*n, 5*n-1, r_5n/r_5n_minus_1))"
   ]
  }
 ]
}
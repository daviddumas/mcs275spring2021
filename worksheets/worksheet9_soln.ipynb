{
 "cells": [
  {
   "cell_type": "markdown",
   "metadata": {},
   "source": [
    "# Worksheet 9 Solutions\n",
    "\n",
    "## MCS 275 Spring 2021 - David Dumas"
   ]
  },
  {
   "cell_type": "markdown",
   "metadata": {},
   "source": [
    "## Topics\n",
    "\n",
    "The main topics of this worksheet are:\n",
    "* Tree traversals\n",
    "* Set and defaultdict\n",
    "* CSV and JSON\n",
    "\n",
    "The main references for these topics are:\n",
    "* [Lecture 21 - Traversals](http://dumas.io/teaching/2021/spring/mcs275/slides/lecture21.html)\n",
    "* [Lecture 22 - set and defaultdict](http://dumas.io/teaching/2021/spring/mcs275/slides/lecture22.html)\n",
    "* [Lecture 23 - CSV and JSON](http://dumas.io/teaching/2021/spring/mcs275/slides/lecture23.html)\n",
    "\n",
    "The most useful files from the sample code repository are:\n",
    "* [binary.py](https://github.com/daviddumas/mcs275spring2021/blob/master/samplecode/trees/binary.py)\n",
    "* [bst.py](https://github.com/daviddumas/mcs275spring2021/blob/master/samplecode/trees/bst.py)\n",
    "* [treevis.py](https://github.com/daviddumas/mcs275spring2021/blob/master/samplecode/trees/treevis.py)\n",
    "* [treeutil.py](https://github.com/daviddumas/mcs275spring2021/blob/master/samplecode/trees/treeutil.py)\n",
    "\n",
    "## Instructions\n",
    "\n",
    "* Problem 1 is handled differently than the others:\n",
    "    * Tuesday discussion students: Problem 1 will be presented as an example at the start of discussion\n",
    "    * Thursday discussion students: Please complete Problem 1 before discussion and bring your solution\n",
    "* For the other problems:\n",
    "    * Work on these problems in discussion."
   ]
  },
  {
   "cell_type": "markdown",
   "metadata": {},
   "source": [
    "### 1.  BST copier\n",
    "\n",
    "Write a function `bst_copy(T)` that takes a `BST` object `T` (with integer keys) and returns a copy of it, created from scratch by instantiating a new `BST` object and inserting the keys from `T`."
   ]
  },
  {
   "cell_type": "code",
   "execution_count": 3,
   "metadata": {},
   "outputs": [],
   "source": [
    "# MCS 275 Worksheet 9 Problem 1\n",
    "# Jennifer Vaccaro\n",
    "# I wrote this solution in collaboration with the Tuesday discussion section (thanks!)\n",
    "\n",
    "import bst\n",
    "import binary\n",
    "\n",
    "def copy_subtree(T, x):\n",
    "    \"\"\"If x != None, copies the key from x into a new node and adds it to a tree T. \n",
    "    Then recurse by copying the subtree descending from x's children.\"\"\"\n",
    "    if x == None:\n",
    "        return\n",
    "    # Create a new node with the same key as x. \n",
    "    new_x = binary.Node(x.key)\n",
    "    # Inserting the new node into T assigns the parent/children\n",
    "    T.insert(new_x)\n",
    "    # Then copy the subtree from x.left and x.right\n",
    "    copy_subtree(T,x.left)\n",
    "    copy_subtree(T,x.right)\n",
    "\n",
    "\n",
    "def bst_copy(T):\n",
    "    \"\"\"Returns a new tree with the same attributes/nodes as T\"\"\"\n",
    "    # Create a new empty tree\n",
    "    new_T = bst.BST()\n",
    "    # Call the recursive helper function to copy each of the nodes\n",
    "    copy_subtree(new_T, T.root)\n",
    "    return new_T"
   ]
  },
  {
   "cell_type": "code",
   "execution_count": 4,
   "metadata": {},
   "outputs": [
    {
     "output_type": "stream",
     "name": "stdout",
     "text": [
      "The original:\n                      <7>                      \n\n          <5>                     <12>         \n\n                            <10>        <16>   \n\n                                           <17>\n\nThe copy:\n                      <7>                      \n\n          <5>                     <12>         \n\n                            <10>        <16>   \n\n                                           <17>\n\nAre they the same object? (Expect False.)\nFalse\n"
     ]
    }
   ],
   "source": [
    "import treeutil\n",
    "import treevis\n",
    "\n",
    "T = treeutil.random_bst(6)\n",
    "T2 = bst_copy(T)\n",
    "print(\"The original:\")\n",
    "treevis.treeprint(T)\n",
    "print(\"The copy:\")\n",
    "treevis.treeprint(T2)\n",
    "print(\"Are they the same object? (Expect False.)\")\n",
    "print(T==T2)  # Since we didn't define an __eq__ method, this will return False\n",
    "              # unless T and T2 are different names for a single object"
   ]
  },
  {
   "cell_type": "markdown",
   "metadata": {},
   "source": [
    "### 2. Accidentally quadratic\n",
    "\n",
    "Here is a function that takes two strings and returns the set of characters that appear in both strings."
   ]
  },
  {
   "cell_type": "code",
   "execution_count": 118,
   "metadata": {},
   "outputs": [],
   "source": [
    "def common_chars(s1,s2):\n",
    "    \"\"\"Return a set of all characters that are present in both\n",
    "    strings `s1` and `s2`.\"\"\"\n",
    "    common = set()\n",
    "    for c1 in s1:\n",
    "        if c1 in s2:\n",
    "            common.add(c1)\n",
    "    return common"
   ]
  },
  {
   "cell_type": "code",
   "execution_count": 5,
   "metadata": {},
   "outputs": [],
   "source": [
    "# MCS 275 Worksheet 9 Problem 3\n",
    "# Jennifer Vaccaro\n",
    "# I wrote this solution myself, in accordance with the syllabus\n",
    "\n",
    "def common_chars(s1,s2):\n",
    "    \"\"\"Return a set of all characters that are present in both\n",
    "    strings `s1` and `s2`.\"\"\"\n",
    "    # By first turning s1 and s2 into sets, we have fewer characters to compare.\n",
    "    # Then we can return the intersection\n",
    "    return set(s1) & set(s2)\n",
    "\n",
    "# Another syntax option would be 'return set(s1).intersect(s2)'"
   ]
  },
  {
   "cell_type": "markdown",
   "metadata": {},
   "source": [
    "It works.  Here's a simple example:"
   ]
  },
  {
   "cell_type": "code",
   "execution_count": 6,
   "metadata": {},
   "outputs": [
    {
     "output_type": "execute_result",
     "data": {
      "text/plain": [
       "{'c', 'e', 'i', 'm', 's', 't'}"
      ]
     },
     "metadata": {},
     "execution_count": 6
    }
   ],
   "source": [
    "common_chars(\"mathematics\",\"computer science\")"
   ]
  },
  {
   "cell_type": "markdown",
   "metadata": {},
   "source": [
    "However, this function is actually quite slow.  Here's an example that generates two strings that each have `50,000` characters, runs `common_chars` on them, and prints the total time."
   ]
  },
  {
   "cell_type": "code",
   "execution_count": 7,
   "metadata": {},
   "outputs": [
    {
     "output_type": "stream",
     "name": "stdout",
     "text": [
      "Common characters:\n{'v', 'q', 'm', 'n', 'h', 'j', 'g', 'i', 't', 'l', 'k', 'p', 'd', 'r', 'e', 's', 'o', 'z', 'u', 'w', 'f'}\n\nRunning time: 0.05 seconds\n"
     ]
    }
   ],
   "source": [
    "import random\n",
    "import time\n",
    "\n",
    "s1 = ''.join([ random.choice([\"edfghijklmnopqrstuvwxyzzzzzzzzzzzzzzzz\"]) for _ in range(50000) ])\n",
    "s2 = ''.join([ random.choice([\"abcedfghijklmnopqrstuvw\"]) for _ in range(50000) ]) + 'z'\n",
    "\n",
    "t_start = time.time()\n",
    "both = common_chars(s1,s2)\n",
    "t_end = time.time()\n",
    "\n",
    "print(\"Common characters:\")\n",
    "print(both)\n",
    "print(\"\\nRunning time: {:.2f} seconds\".format(t_end-t_start))"
   ]
  },
  {
   "cell_type": "markdown",
   "metadata": {},
   "source": [
    "If you try this yourself, you might get a slightly different time, but it will probably take more than 10 seconds.\n",
    "\n",
    "First, what is going on here?  It should be possible to compare millions of characters for equality per second, and there are only 100,000 characters you need to look at, right?\n",
    "\n",
    "Second, can you fix it?  (It is possible to make this function shorter, clearer, and so that it takes less than 0.05 seconds.)"
   ]
  },
  {
   "cell_type": "markdown",
   "metadata": {},
   "source": [
    "### 3. Nobel prize winners data\n",
    "\n",
    "Download the JSON file of data about Nobel laureates from\n",
    "\n",
    "http://api.nobelprize.org/v1/laureate.json\n",
    "\n",
    "Write a Python program that reads this file and uses `defaultdict` to make and print a histogram of the institutional affiliations that appear in each prize category (e.g. in chemistry, how many nobel laureates have their institutional affiliation as \"University of California\"?  in peace, what institutional affiliation is listed for the largest number of laureates?)\n",
    "\n",
    "Poking around in the JSON data to figure out where the relevant information is stored will be the first step.  I suggest loading it into an object in the REPL and then exploring the list of keys, taking the value associated to one of those keys and listing its keys, etc.."
   ]
  },
  {
   "cell_type": "code",
   "execution_count": 8,
   "metadata": {},
   "outputs": [
    {
     "output_type": "stream",
     "name": "stdout",
     "text": [
      "defaultdict(<class 'int'>, {'Sorbonne University': 2, 'Berlin University': 5, 'Stockholm University': 3, 'University College': 1, 'Munich University': 3, 'Landwirtschaftliche Hochschule (Agricultural College)': 1, 'Victoria University': 1, 'Leipzig University': 1, 'Goettingen University': 3, 'Nancy University': 1, 'Toulouse University': 1, 'University of Zurich': 2, 'Harvard University': 6, 'Kaiser-Wilhelm-Institut (now Fritz-Haber-Institut) für physikalische Chemie und Electrochemie': 1, 'University of Oxford': 3, 'University of Cambridge': 3, 'Graz University': 1, 'Uppsala University': 2, 'London University': 1, 'Technische Hochschule (Institute of Technology)': 1, 'University of Heidelberg': 4, 'I.G. Farbenindustrie A.G.': 2, 'General Electric Company': 1, 'Columbia University': 3, 'Institut du Radium': 2, 'Kaiser-Wilhelm-Institut (now Max-Planck-Institut) für Physik': 1, 'Birmingham University': 1, 'Kaiser-Wilhelm-Institut (now Max-Planck Institut) für Medizinische Forschung': 1, 'Kaiser-Wilhelm-Institut (now Max-Planck-Institut) für Biochemie': 1, 'Eidgenössische Technische Hochschule (Swiss Federal Institute of Technology)': 4, 'Kaiser-Wilhelm-Institut (now Max-Planck Institut) für Chemie': 1, 'University of Helsinki': 1, 'Cornell University': 3, 'Rockefeller Institute for Medical Research': 2, 'University of California': 14, 'Kiel University': 1, 'Cologne University': 1, 'National Institute for Medical Research': 1, 'Rowett Research Institute': 1, 'University of Freiburg': 1, 'Staatliches Institut für makromolekulare Chemie (State Research Institute for Macromolecular Chemistry), Freiburg': 1, 'California Institute of Technology (Caltech)': 5, 'Institute for Chemical Physics of the Academy of Sciences of the USSR': 1, 'Lomonosov Moscow State University': 1, 'MRC Laboratory of Molecular Biology': 8, 'Polarographic Institute of the Czechoslovak Academy of Science': 1, 'Max-Planck-Institut für Kohlenforschung (Max-Planck-Institute for Carbon Research)': 1, 'Institute of Technology': 1, 'University of Oxford, Royal Society': 1, 'University of Chicago': 1, 'Max-Planck-Institut für Physikalische Chemie': 1, 'Institute of Physical Chemistry': 1, 'Royal Institution of Great Britain': 1, 'Yale University': 3, 'Imperial College': 2, 'University of Oslo': 1, 'Institute for Biochemical Research': 1, 'National Research Council of Canada': 1, 'National Institutes of Health': 1, 'Rockefeller University': 4, 'Technical University': 1, 'Stanford University': 5, 'University of Sussex': 2, 'Université Libre de Bruxelles': 1, 'University of Texas': 2, 'Glynn Research Laboratories': 1, 'Purdue University': 2, 'Harvard University, Biological Laboratories': 1, 'Kyoto University': 1, 'The Medical Foundation of Buffalo': 1, 'US Naval Research Laboratory': 1, 'University of Toronto': 1, 'Université Louis Pasteur': 1, 'Collège de France': 1, 'Du Pont': 1, 'University of Texas Southwestern Medical Center at Dallas': 1, 'Howard Hughes Medical Institute': 6, 'Max-Planck-Institut für Biochemie': 1, 'Max-Planck-Institut für Biophysik': 1, 'University of Colorado': 1, 'University of British Columbia': 1, 'University of Southern California': 2, 'Max-Planck-Institut für Chemie': 1, 'Massachusetts Institute of Technology (MIT)': 2, 'Rice University': 2, 'Aarhus University': 1, 'Northwestern University': 2, 'University of Pennsylvania': 1, 'University of Tsukuba': 1, 'Nagoya University': 1, 'The Scripps Research Institute': 2, 'Virginia Commonwealth University': 1, 'Shimadzu Corp.': 1, 'Johns Hopkins University School of Medicine': 1, 'Technion - Israel Institute of Technology': 3, 'Institut Français du Pétrole': 1, 'Fritz-Haber-Institut der Max-Planck-Gesellschaft': 1, 'Marine Biological Laboratory (MBL)': 1, 'Boston University Medical School': 1, 'Weizmann Institute of Science': 1, 'University of Delaware': 1, 'Hokkaido University': 1, 'Duke University Medical Center': 1, 'Stanford University School of Medicine': 2, 'Université de Strasbourg': 1, 'Janelia Research Campus, Howard Hughes Medical Institute': 1, 'Max Planck Institute for Biophysical Chemistry': 1, 'German Cancer Research Center': 1, 'Francis Crick Institute': 1, 'Clare Hall Laboratory': 1, 'Duke University School of Medicine': 1, 'University of North Carolina': 1, 'University of Strasbourg': 1, 'University of Groningen': 1, 'University of Lausanne': 1, 'University of Missouri': 1, 'Binghamton University, State University of New York': 1, 'Asahi Kasei Corporation': 1, 'Meijo University': 1, 'Max Planck Unit for the Science of Pathogens': 1})\n"
     ]
    }
   ],
   "source": [
    "# MCS 275 Worksheet 9 Problem 3\n",
    "# Jennifer Vaccaro\n",
    "# I wrote this solution myself, in accordance with the syllabus\n",
    "\"\"\"Creates a histogram of the schools affiliated with the Nobel Prize in Chemistry\"\"\"\n",
    "\n",
    "import json\n",
    "from collections import defaultdict\n",
    "\n",
    "# Create an empty defaultdict with integer values\n",
    "hist = defaultdict(int)\n",
    "\n",
    "# Open the file object. This syntax will automatically \n",
    "# close the file for you once the indentation block ends\n",
    "with open(\"laureate.json\",\"r\") as f:\n",
    "    data = json.load(f)\n",
    "    # Iterate through the laureates\n",
    "    for l in data[\"laureates\"]:\n",
    "        # Iterate through the prizes\n",
    "        for p in l[\"prizes\"]:\n",
    "            if p[\"category\"] != \"chemistry\":\n",
    "                # Skip if the prize category is not chemistry\n",
    "                continue \n",
    "            # Iterate through the affiliations\n",
    "            for a in p[\"affiliations\"]:\n",
    "                # Skip if the affiliation is not a dictionary\n",
    "                if not isinstance(a,dict):\n",
    "                    continue\n",
    "                # Add the school/institution name to the histogram.\n",
    "                # Because we are using defaultdict, the key is assumed to be one, \n",
    "                # so we don't need to check whether a[\"name\"] is already a key\n",
    "                hist[a[\"name\"]] += 1\n",
    "\n",
    "# Print out the histogram\n",
    "print(hist)"
   ]
  },
  {
   "cell_type": "markdown",
   "metadata": {},
   "source": [
    "### 4. CSV merge\n",
    "\n",
    "Write a program to merge any number of CSV files, so that each row in any of the input files becomes a row in the output file.  All of the input CSV files will have header rows.  If the CSV files have the same columns, this is of course easy.  But you should also handle the general case, where some columns may exist in multiple files, and others may be unique to a single file.  The output file should contain one column for each distinct column name that appears in any of the input files.\n",
    "\n",
    "Arrange it so your program `csvmerge.py` accepts all the input filenames as command line arguments.  The last command line argument is the name of the output file that should be created.\n",
    "\n",
    "For example, you might use a command like\n",
    "```\n",
    "python3 csvmerge.py a.csv b.csv c.csv out.csv\n",
    "```\n",
    "with `a.csv` containing:\n",
    "```\n",
    "name,age,favorite\n",
    "Melissa,52,vanilla\n",
    "Jonah,24,strawberry\n",
    "```\n",
    "and `b.csv` containing:\n",
    "```\n",
    "name,major\n",
    "Josefina,falconry\n",
    "David,phrenology\n",
    "```\n",
    "and `c.csv` containing:\n",
    "```\n",
    "age,major\n",
    "5,bubbles\n",
    "11,chess\n",
    "```\n",
    "In which case the program should create `out.csv` containing:\n",
    "```\n",
    "name,age,favorite,major\n",
    "Melissa,52,vanilla,\n",
    "Jonah,24,strawberry,\n",
    "Josefina,,,falconry\n",
    "David,,,phrenology\n",
    ",5,,bubbles\n",
    ",11,,chess\n",
    "```"
   ]
  },
  {
   "cell_type": "code",
   "execution_count": null,
   "metadata": {},
   "outputs": [],
   "source": [
    "# MCS 275 Worksheet 9 Problem 4\n",
    "# Jennifer Vaccaro\n",
    "# I wrote this solution myself, in accordance with the syllabus\n",
    "\"\"\"csvmerge reads a set of input csv and writes their combined \n",
    "data into a single output csv\"\"\"\n",
    "\n",
    "import csv\n",
    "import sys\n",
    "\n",
    "# This code keeps me from accidentally emptying out this text file, \n",
    "# needs at least 2 command line args\n",
    "if len(sys.argv) < 3:\n",
    "    raise Exception(\"Usage: {} a.csv b.csv out.csv\".format(sys.argv[0]))\n",
    "\n",
    "# Iterate through the input files to get the header key names\n",
    "key_names_set = set()\n",
    "for csv_fn in sys.argv[1:-1]:\n",
    "    with open(csv_fn,newline=\"\") as csv_file:\n",
    "        reader = csv.DictReader(csv_file)\n",
    "        for key in reader.fieldnames:\n",
    "            key_names_set.add(key)\n",
    "key_names_list = list(key_names_set)     \n",
    "\n",
    "# Now, open the output file, and write the data from each input file into the output file.\n",
    "# Use the combined input fieldnames.\n",
    "out_fn = sys.argv[-1]\n",
    "with open(out_fn,\"w\") as out_file:\n",
    "    writer = csv.DictWriter(out_file, fieldnames=key_names_list)\n",
    "    writer.writeheader()\n",
    "    # Iterate through our input files again, and write each row of them to the output file.\n",
    "    for csv_fn in sys.argv[1:-1]:\n",
    "        with open(csv_fn,newline=\"\") as csv_file:\n",
    "            reader = csv.DictReader(csv_file)\n",
    "            for row in reader:\n",
    "                writer.writerow(row)"
   ]
  },
  {
   "cell_type": "markdown",
   "metadata": {},
   "source": [
    "### 5. USPS facilities data conversion\n",
    "\n",
    "Download and unzip this CSV file listing facilities (mostly post offices) owned by the USPS in the 50 states:\n",
    "* [usps_facilities.zip](https://dumas.io/teaching/2021/spring/mcs275/data/usps_facilities.zip)\n",
    "\n",
    "Take a look at the file to get a sense of how it is structured.  (You may need to look back at it later to determine which column headings are relevant to the tasks below.)\n",
    "\n",
    "Now, write a program that uses the `csv` module to read this file and process it into a hierarchy of summary data that is written to a JSON file (using the `json` module).  The output should have the following hierarchy:\n",
    "\n",
    "* At the top level, there is one key for each 2-letter state abbreviation (e.g. \"IL\")\n",
    "    * The value associated to a state abbreviation is an object whose keys are the names of postal districts that have facilities in that state (e.g. \"Central Illinois\")\n",
    "        * The value associated to a postal district is an object whose keys and values are as follows:\n",
    "            * key \"total facilities\" with value the number of facilities in that state and postal district\n",
    "            * key \"post offices\" with value the number of facilities in that state and postal district that have facility type (column `FDB Facility Type (All)`) equal to `Post Office`.\n",
    "\n",
    "For example, the output file might begin\n",
    "```\n",
    "{ \"IL\": { \"Central Illinois\": { \"total facilities\": 165, \"post offices\": 144 }, ... \n",
    "```"
   ]
  },
  {
   "cell_type": "markdown",
   "metadata": {},
   "source": [
    "### 6. Kafkaesque *and* Tolstoyesque\n",
    "\n",
    "What words appear in both *War and Peace* by Leo Tolstoy and *The Metamorphosis* by Franz Kafka?\n",
    "\n",
    "Answer this for the english translations of these novels available as UTF-8 plain text from Project Gutenberg:\n",
    "* [War and Peace](http://www.gutenberg.org/files/2600/2600-0.txt)\n",
    "* [Metamorphosis](http://www.gutenberg.org/cache/epub/5200/pg5200.txt)\n",
    "\n",
    "(You should look at the files in a browser to see the format; there is a header and a footer, with the actual text in between.)\n",
    "\n",
    "Counting words is tricky, and there are a lot of edge cases, so let's impose these rules:\n",
    "* A word means a maximal block of consecutive characters that are alphabetic\n",
    "    * A character `c` is considered alphabetic if `c.isalpha()` returns `True`.  The method `isalpha` of class `str` is documented [here](https://docs.python.org/3/library/stdtypes.html#str.isalpha)\n",
    "* Words are considered the same if they differ only in capitalization\n",
    "* Chapter headings and roman numerals count as words (to save you the trouble of devising code to recognize and exclude these)\n",
    "\n",
    "These files contain accented characters and various exotic punctuation (e.g. proper start and end quotation marks, not just the symmetric ones on your keyboard).  As a result, to find words and ignore punctuation it will be easiest to use a positive test (`.isalpha` decides what is a letter) instead of a negative one (e.g. a hard-coded list of punctuation characters to convert to spaces before splitting).\n",
    "\n",
    "*Having finished the last exercise of the worksheet, you can now wake from these troubled dreams to find yourself transformed into a more skilled programmer.*"
   ]
  },
  {
   "cell_type": "code",
   "execution_count": 9,
   "metadata": {
    "tags": [
     "outputPrepend"
    ]
   },
   "outputs": [
    {
     "output_type": "stream",
     "name": "stdout",
     "text": [
      ", 'several', 'ability', 'terribly', 'title', 'ago', 'dare', 'things', 'ought', 'couple', 'couch', 'rooms', 'agent', 'ran', 'properly', 'performed', 'childish', 'living', 'spare', 'without', 'entertain', 'peered', 'muffled', 'maid', 'eat', 'rotten', 'arranged', 'silent', 'friends', 'incomplete', 'immediately', 'takes', 'provisions', 'fluttered', 'square', 'entering', 'knock', 'processing', 'piled', 'hang', 'abandoned', 'refuse', 'dying', 'strike', 'secure', 'end', 'skirts', 'gazing', 'blown', 'fetch', 'helplessness', 'violates', 'finished', 'stored', 'confidence', 'extreme', 'subordinates', 'staying', 'ut', 'decided', 'pity', 'miracle', 'reasonable', 'thick', 'convinced', 'surely', 'packed', 'forth', 'patient', 'delay', 'emptying', 'altogether', 'dear', 'occurred', 'additional', 'lamps', 'ignoring', 'introduction', 'donation', 'unknown', 'them', 'open', 'arc', 'martyr', 'seen', 'ended', 'distress', 'pages', 'silence', 'defects', 'what', 'dressed', 'peculiar', 'attracted', 'must', 'keeping', 'backs', 'charge', 'blow', 'strides', 'budget', 'boss', 'lap', 'want', 'current', 'taking', 'shall', 'periodic', 'damages', 'opportunities', 'away', 'copies', 'computer', 'anger', 'plan', 'breach', 'fixed', 'receive', 'carved', 're', 'hunger', 'on', 'feel', 'learn', 'heaving', 'ready', 'wasn', 'unchanged', 'prove', 'countries', 'stayed', 'early', 'doing', 'removing', 'director', 'victim', 'bearing', 'harmed', 'striking', 'poured', 'distribution', 'official', 'unlike', 'declare', 'locked', 'intent', 'permitted', 'now', 'rows', 'bone', 'push', 'stick', 'made', 'easily', 'writing', 'upright', 'dried', 'peering', 'slightly', 'terms', 'shop', 'weak', 'offer', 'whose', 'expenses', 'providing', 'cheese', 'muster', 'pockets', 'ancient', 'avoid', 'concentration', 'unnecessary', 'attack', 'works', 'gentle', 'spread', 'eating', 'sweetly', 'join', 'best', 'smiled', 'files', 'monster', 'horrible', 'cheer', 'known', 'ourselves', 'grand', 'greatly', 'fortunately', 'suffer', 'years', 'impose', 'cause', 'ears', 'squeaking', 'elastic', 'customers', 'just', 'frequent', 'suspicious', 't', 'regulating', 'impeding', 'disturbing', 'fall', 'women', 'pantry', 'ein', 'bit', 'comfortably', 'cry', 'way', 'costs', 'my', 'tax', 'various', 'gushed', 'broad', 'included', 'senses', 'struggled', 'written', 'meal', 'imagining', 'reasons', 'diligently', 'forgive', 'example', 'changing', 'confusion', 'gratitude', 'urge', 'defect', 'holding', 'such', 'sky', 'loud', 'reading', 'thunder', 'means', 'eventually', 'really', 'robust', 'warranties', 'press', 'top', 'better', 'reproach', 'working', 'herself', 'helplessly', 'slight', 'directions', 'space', 'dr', 'door', 'domain', 'stupid', 'personally', 'no', 'burdensome', 'regularly', 'enjoyed', 'talk', 'obsessed', 'transport', 'shrugged', 'shaken', 'long', 'onto', 'stopped', 'mississippi', 'cook', 'newspapers', 'makes', 'flight', 'distinct', 'fail', 'sight', 'cover', 'possession', 'get', 'snapped', 'print', 'though', 'd', 'toothless', 'hardly', 'tonight', 'fourteen', 'among', 'scar', 'edition', 'of', 'harmful', 'indirectly', 'worst', 'types', 'latest', 'inside', 'beside', 'raising', 'prevented', 'lead', 'production', 'girl', 'replied', 'plaintively', 'unusual', 'derive', 'thoughtfully', 'mechanical', 'lightly', 'bottles', 'so', 'talking', 'dirt', 'regret', 'walks', 'sunday', 'steaming', 'cried', 'purpose', 'last', 'confirmation', 'elderly', 'meet', 'disconcerted', 'saving', 'along', 'warmth', 'lips', 'tell', 'drove', 'joy', 'held', 'calculate', 'before', 'tempted', 'stay', 'healed', 'second', 'hart', 'coming', 'dry', 'folds', 'whatever', 'front', 'based', 'bite', 'listen', 'depended', 'highly', 'distributed', 'response', 'converted', 'waiting', 'looking', 'legal', 'allow', 'did', 'smoking', 'come', 'intellectual', 'obvious', 'individual', 'caused', 'worked', 'at', 'keys', 'assistant', 'person', 'chance', 'provincial', 'enough', 'unheard', 'injuries', 'tugged', 'communicated', 'alert', 'crawled', 'thanks', 'clumsy', 'kept', 'sudden', 'all', 'copy', 'needle', 'includes', 'nice', 'mention', 'promise', 'understood', 'frequently', 'subtleties', 'point', 'peaceful', 'gradually', 'wealth', 'connections', 'also', 'comment', 'tower', 'checking', 'representative', 'suggested', 'clock', 'interrupted', 'let', 'throughout', 'house', 'establish', 'built', 'followed', 'created', 'clumsily', 'hiss', 'running', 'changed', 'thought', 'will', 'badly', 'lungs', 'opening', 'nearly', 'reason', 'indemnity', 'donate', 'same', 'crack', 'redistribution', 'addition', 'jumped', 'do', 'physical', 'believing', 'safe', 'slipped', 'paying', 'visible', 'uncomfortable', 'block', 'i', 'positions', 'replacement', 'greatest', 'appropriate', 'hurt', 'these', 'progress', 'lacking', 'gone', 'course', 'electronically', 'felt', 'found', 'anticipation', 'literary', 'transferring', 'swamp', 'whistled', 'decision', 'clearly', 'b', 'donations', 'helpless', 'preoccupied', 'clear', 'watching', 'beards', 'mouth', 'sat', 'harmless', 'regained', 'employee', 'disgust', 'concerned', 'deletions', 'achievements', 'free', 'volunteers', 'hall', 'started', 'shut', 'fundraising', 'professor', 'landed', 'inflamed', 'startling', 'possibilities', 'companions', 'imagination', 'simple', 'slowly', 'milk', 'royalties', 'concerning', 'accused', 'opportunity', 'wife', 'irritation', 'specified', 'meantime', 'efforts', 'pangs', 'bravely', 'town', 'assailed', 'standing', 'clean', 'formats', 'tightly', 'corner', 'leaves', 'faithful', 'continued', 'wearing', 'lamp', 'scratching', 'determined', 'around', 'laboriously', 'distributor', 'gentlemen', 'swore', 'whispered', 'quieter', 'even', 'invisible', 'mingle', 'promoting', 'stiff', 'fro', 'continuing', 'jaws', 'protect', 'imaginings', 'extent', 'hope', 'empty', 'while', 'punitive', 'devoted', 'invalidity', 'great', 'mad', 'flowed', 'redistributing', 'offered', 'rubbed', 'cough', 'conversations', 'ascii', 'death', 'rid', 'wrenching', 'size', 'openly', 'visitor', 'lurched', 'everywhere', 'bear', 'trusted', 'loose', 'moved', 'glad', 'fast', 'boy', 'walk', 'different', 'modest', 'laying', 'every', 'went', 'repelled', 'treatment', 'flowers', 'shy', 'hands', 'probably', 'pushing', 'brought', 'hour', 'boned', 'gained', 'plenty', 'showed', 'resistance', 'provided', 'line', 'expense', 'mothers', 'called', 'closely', 'send', 'skirt', 'pulling', 'often', 'conditions', 'unfortunate', 'however', 'attached', 'opposite', 'seem', 'austere', 'sufficiently', 'serious', 'f', 'curtains', 'gas', 'infringement', 'much', 'smile', 'bare', 'printed', 'noise', 'exactly', 'newby', 'thank', 'reduce', 'windows', 'lasted', 'source', 'arise', 'themselves', 'definitely', 'than', 'effort', 'representations', 'good', 'imploring', 'arrange', 'sewing', 'disturb', 'satisfaction', 'climb', 'charitable', 'livelier', 'amazed', 'happy', 'strained', 'waved', 'prepare', 'shiny', 'above', 'performing', 'updated', 'sooner', 'decisively', 'intercede', 'desk', 'considerate', 'value', 'granted', 'ground', 'why', 'week', 'watch', 'uncontrolled', 'preserve', 'show', 'count', 'rearranging', 'for', 'consequential', 'stepped', 'self', 'duty', 'kicked', 'swallow', 'liable', 'sighs', 'have', 'reaching', 'not', 'saints', 'tall', 'cheeks', 'thanking', 'somewhat', 'carefree', 'wipe', 'strangeness', 'fists', 'thinks', 'thoroughly', 'explanation', 'healthy', 'alarmed', 'meant', 'strain', 'cross', 'matters', 'mixed', 'scraping', 'hugged', 'generations', 'addresses', 'from', 'move', 'mixing', 'their', 'least', 'corpse', 'announcement', 'sort', 'has', 'very', 'congratulated', 'collar', 'strong', 'excitement', 'anew', 'placed', 'panting', 'half', 'incapable', 'licensed', 'underneath', 'rushed', 'dung', 'numerous', 'some', 'misfortunes', 'forehead', 'obtain', 'quick', 'require', 'reliable', 'destination', 'saw', 'try', 'white', 'inaccessible', 'limitation', 'dared', 'success', 'comes', 'dull', 'everyone', 'transcription', 'length', 'solid', 'powerful', 'damp', 'human', 'confirm', 'lifted', 'stuff', 'reach', 'disturbed', 'curiosity', 'causing', 'please', 'removed', 'authority', 'outdated', 'delighted', 'online', 'threads', 'it', 'english', 'troubled', 'immaculate', 'step', 'became', 'tossed', 'confirmed', 'stuck', 'dismissal', 'refund', 'an', 'appreciated', 'sit', 'medium', 'discard', 'requirements', 'divided', 'part', 'org', 'serve', 'reported', 'harshly', 'think', 'conscience', 'buttons', 'mingled', 'here', 'answered', 'longing', 'object', 'stone', 'make', 'frame', 'legally', 'station', 'centre', 'computers', 'returns', 'unable', 'surplus', 'dreams', 'succeeded', 'tortured', 'display', 'library', 'shove', 'catching', 'sticks', 'covers', 'employer', 'chairs', 'had', 'picture', 'bringing', 'wept', 'with', 'prevail', 'take', 'feeling', 'engrossed', 'gave', 'besides', 'bread', 'forgetting', 'leader', 'collapsed', 'oh', 'hot', 'trouser', 'backwards', 'age', 'begging', 'position', 'excitedly', 'gross', 'wish', 'black', 'spend', 'speak', 'ceiling', 'write', 'methods', 'watched', 'commerce', 'awkwardly', 'supported', 'previous', 'feeding', 'accumulated', 'motionless', 'shocked', 'memory', 'share', 'see', 'proud', 'possibility', 'pg', 'arms', 'untidiness', 'overcoat', 'modification', 'drop', 'bedroom', 'hypertext', 'notes', 'confused', 'scream', 'appear', 'network', 'interest', 'between', 'experience', 'gutenberg', 'immobile', 'distribute', 'goals', 'approached', 'blossoming', 'necklace', 'appeals', 'illness', 'starting', 'card', 'remembered', 'bedding', 'medical', 'practical', 'moments', 'derivative', 'gbnewby', 'far', 'profits', 'strikes', 'solicitation', 'cleaning', 'face', 'they', 'laugh', 'strenuous', 'drink', 'splinter', 'beg', 'rented', 'narrow', 'monotonous', 'bent', 'stood', 'fitted', 'threatened', 'right', 'panic', 'locations', 'sections', 'threat', 'assuming', 'grin', 'especially', 'limped', 'yes', 'peg', 'hitting', 'spring', 'reached', 'credit', 'snuffling', 'spoken', 'perhaps', 'grounds', 'fact', 'follow', 'knife', 'repeated', 'hardest', 'begun', 'general', 'still', 'smart', 'daring', 'potatoes', 'gossip', 'sighing', 'anything', 'fresh', 'calculated', 'up', 'proper', 'times', 'never', 'resolve', 'sister', 'crying', 'explaining', 'salt', 'alone', 'eyes', 'practice', 'refrained', 'during', 'flying', 'plain', 'indirect', 'communication', 'spoke', 'agreed', 'accepted', 'lift', 'got', 'carefully', 'polished', 'touched', 'rattling', 'walked', 'redistribute', 'guessed', 'spot', 'quivering', 'air', 'concealed', 'world', 'until', 'tremendous', 'ones', 'sauce', 'bank', 'ate', 'wrapped', 'crash', 'floating', 'details', 'tip', 'conclusion', 'closed', 'amount', 'practically', 'imagined', 'pleasant', 'detach', 'leg', 'game', 'tug', 'overnight', 'comprehension', 'thrown', 'basis', 'whims', 'incomprehensible', 'entirely', 'despair', 'full', 'superior', 'irs', 'wall', 'status', 'middle', 'reports', 'clenched', 'sought', 'suggest', 'itself', 'registered', 'night', 'crouched', 'awake', 'concept', 'letters', 'added', 'entitled', 'three', 'evenings', 'august', 'pane', 'loudest', 'indemnify', 'pack', 'hit', 'determine', 'need', 'instrument', 'draught', 'becoming', 'cleared', 'resounding', 'guest', 'took', 'sheet', 'heard', 'hoping', 'floor', 'foot', 'royalty', 'lose', 'light', 'came', 'strongly', 'paid', 'turning', 'clapping', 'condition', 'investigate', 'reads', 'natural', 'heads', 'housekeeper', 'bother', 'employees', 'fully', 'destroyed', 'scurry', 'instance', 'save', 'sympathy', 'throwing', 'coffee', 'unsatisfactory', 'feeble', 'vigorously', 'address', 'won', 'experienced', 'concentrated', 'dirty', 'pillows', 'behalf', 'compliance', 'ask', 'meat', 'smaller', 'piercing', 'condemned', 'stretched', 'suitable', 'trying', 'flown', 'offers', 'hazard', 'handle', 'pride', 'notifies', 'performance', 'christmas', 'sunshine', 'revolting', 'likely', 'inaccurate', 'agreement', 'pair', 'sent', 'permission', 'family', 'me', 'filled', 've', 'year', 'sixteen', 'hissing', 'large', 'sharing', 'alarm', 'beer', 'shouted', 'gather', 'said', 'patch', 'melancholy', 'holder', 'identification', 'reproaches', 'father', 'possible', 'adjoining', 'too', 'gruff', 'mistake', 'blue', 'view', 'outstretched', 'hurrying', 'within', 'wondered', 'since', 'hotel', 'disappointment', 'preparation', 'yesterday', 'bed', 'public', 'if', 'yet', 'twisted', 'evening', 'swinging', 'worry', 'plans', 'courtesy', 'cease', 'chest', 'lieutenant', 'noses', 'hurriedly', 'start', 'permanent', 'listened', 'txt', 'angry', 'remind', 'leapt', 'cold', 'distance', 'know', 'that', 'ring', 'volume', 'beginning', 'sometimes', 'thoughts', 'accessed', 'shared', 'tools', 'fools', 'chase', 'absolutely', 'fell', 'distinctly', 'neglected', 'describing', 'humbly', 'worries', 'contact', 'helped', 'shoved', 'approved', 'flat', 'total', 'building', 'afterwards', 'might', 'unpleasantness', 'ill', 'cannot', 'dinner', 'mail', 'statements', 'expectations', 'appearance', 'incidental', 'be', 'synonymous', 'endure', 'jaw', 'ever', 'lad', 'perform', 'exists', 'helping', 'entertaining', 'streets', 'ebooks', 'facility', 'dismissed', 'sleeping', 'leaving', 'quarrel', 'appears', 'disclaim', 'except', 'mother', 'imagine', 'swept', 'west', 'where', 'contract', 'midday', 'another', 'suddenly', 'advantage', 'stamping', 'search', 'lay', 'thinking', 'halt', 'met', 'site', 'draw', 'job', 'prepared', 'pull', 'trembling', 'sides', 'done', 'seemed', 'payments', 'terrible', 'sword', 'clever', 'expression', 'calls', 'alteration', 'glancing', 'joining', 'enter', 'flee', 'state', 'sofa', 'bowl', 'school', 'staggered', 'belonging', 'saved', 'archive', 'rag', 'maximum', 'considerations', 'one', 'additions', 'gain', 'accepting', 'particular', 'can', 'maintain', 'fashion', 'letter', 'earth', 'old', 'deal', 'carry', 'tolerate', 'special', 'chose', 'able', 'completely', 'carrying', 'vile', 'near', 'controlled', 'attributed', 'broke', 'test', 'withstand', 'coats', 'after', 'sounding', 'report', 'lover', 'leave', 'surprising', 'intentions', 'feet', 'upwards', 'plates', 'information', 'whereabouts', 'belly', 'word', 'thereby', 'contrary', 'support', 'pointing', 'goes', 'wishing', 'similar', 'windowpanes', 'son', 'unsolicited', 'needn', 'problem', 'run', 'screams', 'wide', 'spying', 'invariably', 'selection', 'endearments', 'love', 'meanwhile', 'wearily', 'shout', 'big', 'knew', 'license', 'gently', 'goodness', 'enable', 'quietly', 'uniting', 'carelessly', 'screamed', 'quarter', 'lieu', 'flew', 'trademark', 'sleepiness', 'obsolete', 'drew', 'decide', 'bad', 'disk', 'newsletter', 'loss', 'prevent', 'fluid', 'studies', 'lived', 'seized', 'joined', 'repeatedly', 'speech', 'bones', 'kitchen', 'medicine', 'tray', 'related', 'armchair', 'sick', 'somebody', 'contain', 'bushy', 'actually', 'pleasure', 'pretend', 'superfluous', 'raise', 'enveloped', 'achieved', 'relieved', 'reminder', 'stretch', 'dish', 'injured', 'are', 'difficult', 'viewing', 'affection', 'politeness', 'wiped', 'hopes', 'breakfasts', 'ease', 'survive', 'lack', 'contents', 'tidy', 'recent', 'catch', 'nonsense', 'cap', 'named', 'there', 'making', 'humility', 'links', 'over', 'sprung', 'order', 'data', 'train', 'resolved', 'amazement', 'content', 'circumstances', 'turn', 'hospital', 'rage', 'although', 'wants', 'mission', 'grant', 'injury', 'prohibition', 'shoulders', 'places', 'hairs', 'performances', 'hold', 'down', 'reduced', 'drag', 'pressure', 'persuaded', 'expressive', 'organized', 'faint', 'any', 'jump', 'nostrils', 'noticeable', 'whereas', 'version', 'heaven', 'firm', 'quickly', 'distributing', 'obtaining', 'continue', 'load', 'spin', 'complicated', 'ensuring', 'planned', 'anywhere', 'words', 'recommendation', 'months', 'flesh', 'originator', 'suppress', 'courage', 'caught', 'associated', 'begged', 'flow', 'find', 'lives', 'dark', 'consideration', 'name', 'stretching', 'abruptly', 'intention', 'contrast', 'deep', 'add', 'elect', 'listening', 'drops', 'appeared', 'formerly', 'arrived', 'virus', 'five', 'hoped', 'red', 'owed', 'matter', 'effects', 'usually', 'moreover', 'lady', 'across', 'party', 'discover', 'depends', 'who', 'abandoning', 'roll', 'lake', 'painful', 'easy', 'steady', 'law', 'leaned', 'provision', 'slightest', 'young', 'separated', 'out', 'equipment', 'exporting', 'accuse', 'forgotten', 'references', 'weather', 'coat', 'annoyed', 'involved', 'following', 'continually', 'breakfast', 'totally', 'produced', 'service', 'express', 'real', 'lazy', 'stairs', 'project', 'u', 'rushing', 'aside', 'shivering', 'fist', 'mood', 'give', 'straight', 'lie', 'liked', 'duties', 'critical', 'sucking', 'hand', 'nuisance', 'seriously', 'using', 'constant', 'private', 'stand', 'sadly', 'entity', 'particularly', 'raisins', 'transformed', 'glass', 'woke', 'others', 'break', 'excited', 'quite', 'may', 'vain', 'slumber', 'hearing', 'water', 'should', 'knocking', 'checked', 'sufficient', 'himself', 'didn', 'obviously', 'staff', 'gifted', 'interpreted', 'quiet', 'e', 'coughed', 'considered', 'sideways', 'o', 'hostile', 'fond', 'country', 'marriage', 'charges', 'cooked', 'discontinue', 'lots', 'needed', 'convulsive', 'days', 'appreciation', 'upon', 'scraped', 'arduous', 'movement', 'apple', 'later', 'honour', 'maintaining', 'regular', 'sound', 'music', 'close', 'parents', 'provide', 'indicating', 'merchantibility', 'doubt', 'off', 'situation', 'confident', 'surprise', 'sold', 'remained', 'connection', 'head', 'does', 'moving', 'led', 'combed', 'anyone', 'nor', 'electric', 'nearer', 'telling', 'hearer', 'ear', 'covered', 'present', 'kind', 'carpet', 'document', 'numb', 'answering', 'snapping', 'glanced', 'simply', 'brother', 'doorway', 'result', 'arm', 'punished', 'aching', 'covering', 'choose', 'saddened', 'shoulder', 'detail', 'binary', 'sensible', 'impossible', 'disappointed', 'gleeful', 'thin', 'unbearable', 'deranged', 'receipt', 'groundless', 'irregular', 'round', 'pulled', 'shone', 'hard', 'access', 'by', 'nodded', 'breathe', 'march', 'desperate', 'volunteer', 'member', 'mean', 'remaining', 'something', 'active', 'few', 'boots', 'research', 'homes', 'aged', 'as', 'gold', 'hell', 'paragraph', 'feelings', 'briefly', 'pressed', 'decisive', 'seats', 'unwell', 'about', 'heavily', 'hundred', 'woman', 'lively', 'unfortunately', 'pure', 'bolted', 'into', 'action', 'author', 'spent', 'aware', 'tired', 'forget', 'cautious', 'expecting', 'anxiety', 'states', 'passed', 'thirty', 'comply', 'bulging', 'clerk', 'its', 'edges', 'inch', 'holiday', 'invalid', 'direct', 'tender', 'date', 'lighter', 'partly', 'downloading', 'sacked', 'hide', 'knives', 'everything', 'phrase', 'broom', 'warm', 'heavy', 'swing', 'new', 'damaged', 'poor', 'functions', 'below', 'pained', 'exceptionally', 'breath', 'locking', 'firmly', 'room', 'north', 'brown', 'despite', 'collection', 'because', 'determination', 'bound', 'pale', 'scattered', 'executive', 'attention', 'less', 'disclaimers', 'responsible', 'somewhere', 'weaker', 'suppose', 'beings', 'anyway', 'ak', 'banging', 'persuade', 'knocked', 'friend', 'agitated', 'tidied', 'encouraged', 'help', 'acceptance', 'certainly', 'recently', 'soon', 'inner', 'hungry', 'minutes', 'occupied', 'awful', 'banister', 'swayed', 'enjoy', 'nothing', 'tickle', 'peace', 'exaggerated', 'therefore', 'federal', 'knowing', 'watering', 'hinder', 'earned', 'exempt', 'leaning', 'true', 'caustic', 'zip', 'afraid', 'mentioned', 'gets', 'hissed', 'form', 'unused', 'double', 'act', 'but', 'satisfied', 'sign', 'unexpected', 'whenever', 'impatient', 'modified', 'gentleman', 'creating', 'movements', 'page', 'footsteps', 'told', 'wisdom', 'fear', 'smoke', 'frenzy', 'opinion', 'willing', 'allowed', 'consciousness', 'refusing', 'player', 'when', 'void', 'whole', 'together', 'sensitive', 'indifferent', 'applicable', 'play', 'mistakes', 'driven', 'drive', 'discovery', 'luxury', 'unenforceability', 'enormous', 'observed', 'warning', 'turned', 'certainty', 'creation', 'hundreds', 'lost', 'slept', 'sir', 'breast', 'destroy', 'unhappy', 'imposed', 'smell', 'lodged', 'nap', 'fees', 'clothes', 'sill', 'learned', 'dust', 'is', 'calling', 'this', 'contented', 'delaying', 'file', 'taste', 'kiss', 'refused'}\n"
     ]
    }
   ],
   "source": [
    "# MCS 275 Worksheet 9 Problem 6\n",
    "# Jennifer Vaccaro\n",
    "# I wrote this solution myself, in accordance with the syllabus\n",
    "\"\"\"Finds the shared words between 'War and Peace' by Leo Tolstoy \n",
    "and 'Metamorphosis' by Franz Kafka\"\"\"\n",
    "\n",
    "# Set the names of the text files\n",
    "f1 = \"tolstoy.txt\"\n",
    "f2 = \"kafka.txt\"\n",
    "\n",
    "def get_words(s):\n",
    "    \"\"\"Splits out a string s into alphabet words by \n",
    "    converting all other characters to spaces then splitting\"\"\"\n",
    "    new_s = \"\"\n",
    "    for c in s:\n",
    "        if c.isalpha():\n",
    "            new_s += c\n",
    "        else:\n",
    "            new_s += \" \"\n",
    "    return new_s.split(\" \")\n",
    "\n",
    "# Create a set containing all unique words in the first file\n",
    "f1_words = set()\n",
    "with open(f1,\"r\",encoding=\"utf8\") as f:\n",
    "    for row in f:\n",
    "        words = get_words(row)\n",
    "        for word in words:\n",
    "            f1_words.add(word.lower()) # uppercase and lowercase versions count as the same word\n",
    "\n",
    "# Create a set containing all unique words in the second file\n",
    "f2_words = set()\n",
    "with open(f2,\"r\",encoding=\"utf8\") as f:\n",
    "    for row in f:\n",
    "        words = get_words(row)\n",
    "        for word in words:\n",
    "            f2_words.add(word.lower())\n",
    "\n",
    "# The intersection of these sets is the set of shared words\n",
    "shared_words = f1_words & f2_words\n",
    "print(shared_words)"
   ]
  },
  {
   "cell_type": "markdown",
   "metadata": {},
   "source": [
    "### Extra for self study: One line tree\n",
    "\n",
    "This is an elaboration of a comment from lecture.  It doesn't ask you to do much except experiment with an interesting construction.  I learned of this from [Harold Cooper](https://gist.github.com/hrldcpr/2012250).\n",
    "\n",
    "The following one-line function lets you create hierarchies of dictionaries in Python using defaultdict:"
   ]
  },
  {
   "cell_type": "code",
   "execution_count": 124,
   "metadata": {},
   "outputs": [],
   "source": [
    "# Adapted from https://gist.github.com/hrldcpr/2012250 by Harold Cooper\n",
    "from collections import defaultdict\n",
    "\n",
    "def autohierarchy():\n",
    "    return defaultdict(autohierarchy)"
   ]
  },
  {
   "cell_type": "markdown",
   "metadata": {},
   "source": [
    "Here's an example of how you can use it.  Basically, you just attempt to access keys to create them!  You can even access a key of a nested dictionary, and all the surrounding dictionaries will be created."
   ]
  },
  {
   "cell_type": "code",
   "execution_count": 120,
   "metadata": {},
   "outputs": [
    {
     "name": "stdout",
     "output_type": "stream",
     "text": [
      "Adding stuff\n",
      "Ok, added the stuff\n"
     ]
    }
   ],
   "source": [
    "tasks = autohierarchy()\n",
    "print(\"Adding stuff\")\n",
    "tasks[\"home\"][\"maintenance\"][\"demagnetize rain gutters\"]\n",
    "tasks[\"home\"][\"maintenance\"][\"replace missing front door\"]\n",
    "tasks[\"home\"][\"cleaning\"][\"load dishwasher\"]\n",
    "tasks[\"home\"][\"cleaning\"][\"run dishwasher\"]\n",
    "tasks[\"home\"][\"cleaning\"][\"empty dishwasher\"]\n",
    "tasks[\"school\"][\"mcs 275\"][\"project 3\"]\n",
    "print(\"Ok, added the stuff\")"
   ]
  },
  {
   "cell_type": "markdown",
   "metadata": {},
   "source": [
    "Now if you print one of these objects, it looks ugly.  But if you convert it to JSON, it looks nice."
   ]
  },
  {
   "cell_type": "code",
   "execution_count": 121,
   "metadata": {},
   "outputs": [
    {
     "name": "stdout",
     "output_type": "stream",
     "text": [
      "Ugly, but has all the stuff we intended:\n",
      "defaultdict(<function autohierarchy at 0x7f7edc493e50>, {'home': defaultdict(<function autohierarchy at 0x7f7edc493e50>, {'maintenance': defaultdict(<function autohierarchy at 0x7f7edc493e50>, {'demagnetize rain gutters': defaultdict(<function autohierarchy at 0x7f7edc493e50>, {}), 'replace missing front door': defaultdict(<function autohierarchy at 0x7f7edc493e50>, {})}), 'cleaning': defaultdict(<function autohierarchy at 0x7f7edc493e50>, {'load dishwasher': defaultdict(<function autohierarchy at 0x7f7edc493e50>, {}), 'run dishwasher': defaultdict(<function autohierarchy at 0x7f7edc493e50>, {}), 'empty dishwasher': defaultdict(<function autohierarchy at 0x7f7edc493e50>, {})})}), 'school': defaultdict(<function autohierarchy at 0x7f7edc493e50>, {'mcs 275': defaultdict(<function autohierarchy at 0x7f7edc493e50>, {'project 3': defaultdict(<function autohierarchy at 0x7f7edc493e50>, {})})})})\n",
      "\n",
      "Nicer:\n",
      "{\n",
      "    \"home\": {\n",
      "        \"maintenance\": {\n",
      "            \"demagnetize rain gutters\": {},\n",
      "            \"replace missing front door\": {}\n",
      "        },\n",
      "        \"cleaning\": {\n",
      "            \"load dishwasher\": {},\n",
      "            \"run dishwasher\": {},\n",
      "            \"empty dishwasher\": {}\n",
      "        }\n",
      "    },\n",
      "    \"school\": {\n",
      "        \"mcs 275\": {\n",
      "            \"project 3\": {}\n",
      "        }\n",
      "    }\n",
      "}\n"
     ]
    }
   ],
   "source": [
    "import json\n",
    "\n",
    "print(\"Ugly, but has all the stuff we intended:\")\n",
    "print(tasks)\n",
    "print()\n",
    "print(\"Nicer:\")\n",
    "print(json.dumps(tasks, indent=4))"
   ]
  },
  {
   "cell_type": "markdown",
   "metadata": {},
   "source": [
    "Can you figure out how and why this works?\n",
    "\n",
    "How might you write a function to convert one of these `autohierarchy` objects to a collection of nested `dict`s so that they print nicely without using the `json` module?"
   ]
  },
  {
   "cell_type": "markdown",
   "metadata": {},
   "source": [
    "### Revision history\n",
    "\n",
    "* 2021-03-09 - Initial publication"
   ]
  }
 ],
 "metadata": {
  "kernelspec": {
   "display_name": "Python 3",
   "language": "python",
   "name": "python3"
  },
  "language_info": {
   "codemirror_mode": {
    "name": "ipython",
    "version": 3
   },
   "file_extension": ".py",
   "mimetype": "text/x-python",
   "name": "python",
   "nbconvert_exporter": "python",
   "pygments_lexer": "ipython3",
   "version": "3.8.5-final"
  }
 },
 "nbformat": 4,
 "nbformat_minor": 4
}
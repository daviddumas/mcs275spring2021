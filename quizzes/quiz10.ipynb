{
 "cells": [
  {
   "cell_type": "markdown",
   "metadata": {},
   "source": [
    "# Quiz 10\n",
    "\n",
    "## MCS 275 Spring 2021 - David Dumas"
   ]
  },
  {
   "cell_type": "markdown",
   "metadata": {},
   "source": [
    "## Instructions:\n",
    "\n",
    "### Deadline\n",
    "This quiz must be submitted in Gradescope by 12:00pm CST on Tuesday, March 30, 2021.\n",
    "\n",
    "### Topic\n",
    "\n",
    "This quiz covers the Python modules **pillow** and **numpy** as covered in Lectures 24--26.\n",
    "\n",
    "### Resources you are allowed to consult\n",
    "Quizzes are INDIVIDUAL, closed book, and only allow access to specified resources.  For this quiz you can access:\n",
    "* [The course coding standards document](https://dumas.io/teaching/2021/spring/mcs275/doc/codestd.pdf)\n",
    "* [The Python tour](https://dumas.io/teaching/2021/spring/mcs275/nbview/samplecode/python_tour.html)\n",
    "* [Lecture 24 - Pillow](https://www.dumas.io/teaching/2021/spring/mcs275/slides/lecture24.html)\n",
    "* [Lecture 25 - numpy](https://www.dumas.io/teaching/2021/spring/mcs275/slides/lecture25.html)\n",
    "* [Lecture 26 - numpy II](https://www.dumas.io/teaching/2021/spring/mcs275/slides/lecture26.html)\n",
    "* [Lecture 27 - Julia sets](https://www.dumas.io/teaching/2021/spring/mcs275/slides/lecture26.html)\n",
    "* [Worksheet 10 Solutions](https://dumas.io/teaching/2021/spring/mcs275/nbview/worksheets/worksheet10_soln.html)\n",
    "\n",
    "**Because of spring break, it's been a while since you completed Worksheet 10.  Reading through the solutions would probably be a good idea.**\n",
    "\n",
    "### Point distribution\n",
    "\n",
    "There are two problems on this quiz, numbered 2 and 3.  The point breakdown is:\n",
    "\n",
    "| Points | Item |\n",
    "| --- | --- |\n",
    "| 3 | autograder |\n",
    "| 4 | problem 2 |\n",
    "| 4 | problem 3 |\n",
    "| **11** | total |\n",
    "\n"
   ]
  },
  {
   "cell_type": "markdown",
   "metadata": {},
   "source": [
    "## No problem 1 (as usual)"
   ]
  },
  {
   "cell_type": "markdown",
   "metadata": {},
   "source": [
    "## Problem 2: Red to blue\n",
    "\n",
    "Write a program that reads a color bitmap image (mode RGB) from a file, finds all pixels that are pure bright red (value `(255,0,0)`), and changes such pixels to pure bright blue (value `(0,0,255)`).  All other pixels should remain unchanged.  The modified image should then be saved to an output file.\n",
    "\n",
    "The program should take two command line arguments:\n",
    "* Argument 1: The name of the input image file\n",
    "* Argument 2: The name of the output image file\n",
    "\n",
    "In case you'd like to test your program, here are a pair of images that provide sample input and expected output.  You'll want to download them and save them wherever you work on your quiz code.\n",
    "\n",
    "* [q10sampleinput.png](https://dumas.io/teaching/2021/spring/mcs275/data/q10sampleinput.png)\n",
    "* [q10sampleoutput.png](https://dumas.io/teaching/2021/spring/mcs275/data/q10sampleoutput.png)\n",
    "\n",
    "Save your program to `quiz10prob2.py` and upload it to Gradescope."
   ]
  },
  {
   "cell_type": "markdown",
   "metadata": {},
   "source": [
    "## Problem 3: Explain three lines of code\n",
    "\n",
    "For this quiz problem, you need to add explanatory comments to a given code sample.\n",
    "\n",
    "To explain what is expected, here is an example.  The following program makes a numpy array and prints some parts of it."
   ]
  },
  {
   "cell_type": "code",
   "execution_count": 16,
   "metadata": {},
   "outputs": [
    {
     "name": "stdout",
     "output_type": "stream",
     "text": [
      "[ 2  9 16 23 30]\n",
      "31\n"
     ]
    }
   ],
   "source": [
    "# Undocumented sample\n",
    "import numpy as np\n",
    "\n",
    "A = np.arange(35).reshape(5,7)\n",
    "print(A[:,2])\n",
    "print(A[4,3])"
   ]
  },
  {
   "cell_type": "markdown",
   "metadata": {},
   "source": [
    "Here is a documented version of the same program, where every line of code is explained by a comment above it."
   ]
  },
  {
   "cell_type": "code",
   "execution_count": 86,
   "metadata": {},
   "outputs": [
    {
     "name": "stdout",
     "output_type": "stream",
     "text": [
      "[ 14  91 266 539 910]\n",
      "401.0\n"
     ]
    }
   ],
   "source": [
    "# Documented sample\n",
    "import numpy as np\n",
    "\n",
    "# Arrange the integers 0...34 in a matrix\n",
    "# with 5 rows and 7 columns.  Square each\n",
    "# one and add 10.\n",
    "A = np.arange(35).reshape(5,7)**2 + 10\n",
    "\n",
    "# Print column 2 of the matrix\n",
    "print(A[:,2])\n",
    "\n",
    "# Print the average (arithmetic mean) of \n",
    "# all the entries of the matrix\n",
    "print(np.mean(A))"
   ]
  },
  {
   "cell_type": "markdown",
   "metadata": {},
   "source": [
    "Notice that each comment is detailed enough that if you were only given the contents of the comment, you would be able to re-create the corresponding code.  (In normal programming practice you wouldn't use this many comments, nor include this much detail, but I am showing what is expected in this problem.)\n",
    "\n",
    "**Add the same kind of explanatory comments to the following program:**"
   ]
  },
  {
   "cell_type": "code",
   "execution_count": 78,
   "metadata": {},
   "outputs": [
    {
     "name": "stdout",
     "output_type": "stream",
     "text": [
      "276\n",
      "[[ 360  624  960 1368 1848 2400]\n",
      " [ 624  960 1368 1848 2400 3024]]\n"
     ]
    }
   ],
   "source": [
    "# Add a detailed explanatory comment above each line of code.\n",
    "import numpy as np\n",
    "\n",
    "B = np.arange(13,43,5) + np.arange(30).reshape(5,6)\n",
    "print(np.sum(B[::2,2::3]))\n",
    "print(B[1:3]**2 - 1)"
   ]
  },
  {
   "cell_type": "markdown",
   "metadata": {},
   "source": [
    "Put your documented version of the program in a file `quiz10prob3.py` and submit it to gradescope.  (Remember to add the required header and a docstring so it confirms to the course coding standards.)"
   ]
  },
  {
   "cell_type": "markdown",
   "metadata": {},
   "source": [
    "### Revision history\n",
    "\n",
    "* 2021-03-28 Initial publication"
   ]
  }
 ],
 "metadata": {
  "kernelspec": {
   "display_name": "Python 3",
   "language": "python",
   "name": "python3"
  },
  "language_info": {
   "codemirror_mode": {
    "name": "ipython",
    "version": 3
   },
   "file_extension": ".py",
   "mimetype": "text/x-python",
   "name": "python",
   "nbconvert_exporter": "python",
   "pygments_lexer": "ipython3",
   "version": "3.8.5"
  }
 },
 "nbformat": 4,
 "nbformat_minor": 4
}

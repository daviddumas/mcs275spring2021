{
 "cells": [
  {
   "cell_type": "markdown",
   "metadata": {},
   "source": [
    "# Quiz 2\n",
    "\n",
    "## MCS 275 Spring 2021 - David Dumas"
   ]
  },
  {
   "cell_type": "markdown",
   "metadata": {},
   "source": [
    "## Instructions:\n",
    "\n",
    "### Deadline\n",
    "This quiz must be submitted in Gradescope by 12:00pm CST on Tuesday, January 26, 2021.\n",
    "\n",
    "### Policy reminder\n",
    "Quizzes are INDIVIDUAL and **closed book** (no online resources are permitted) unless exceptions are noted in the instructions.\n",
    "\n",
    "### Resources you are allowed to consult\n",
    "For this quiz:\n",
    " * [The course coding standards document](https://dumas.io/teaching/2021/spring/mcs275/doc/codestd.pdf)\n",
    " * [The Python tour](https://dumas.io/teaching/2021/spring/mcs275/nbview/samplecode/python_tour.html)\n",
    " * [Worksheet 1 Solutions](https://dumas.io/teaching/2021/spring/mcs275/nbview/worksheets/worksheet1_solns.html)\n",
    " * [Worksheet 2 Solutions](https://dumas.io/teaching/2021/spring/mcs275/nbview/worksheets/worksheet2_soln.html)\n",
    " \n",
    "### Cite your sources\n",
    "\n",
    "**Two problems on this quiz encourage you to use code from the solutions to Worksheet 2.**  You can use your own solutions for this, in which case you'll be the sole author of the final program.  Alternatively, you can use code from the solutions written by the course staff, as long as the declaration you put at the top of your program accurately explains the authorship.  Here is an example:\n",
    "\n",
    "```\n",
    "# Declaration: I, Anna K. Example, used code from the Worksheet 2 solutions as a\n",
    "# starting point for this program, and developed all of the additional code\n",
    "# contained in this program myself.  I followed the rules in the course syllabus.\n",
    "```\n",
    " \n",
    "### Hopefully shorter than Quiz 1\n",
    "\n",
    "Based on feedback from Quiz 1, I have tried to make this quiz shorter."
   ]
  },
  {
   "cell_type": "markdown",
   "metadata": {},
   "source": [
    "## (No problem number 1, as usual)\n",
    "\n",
    "The **3 points** assigned by the autograder based on syntax and docstring checking will be listed as problem 1 in Gradescope."
   ]
  },
  {
   "cell_type": "markdown",
   "metadata": {},
   "source": [
    "## Problem 2: Perfect square floor - 4 points\n",
    "\n",
    "Write a function `square_floor(n)` that takes a positive integer `n` and returns the largest perfect square that is less than or equal to `n`.\n",
    "\n",
    "For example:\n",
    "* `square_floor(9)` should return `9`, because `3**2 = 9 <= 9` but `4**2 = 16 > 9`.\n",
    "* `square_floor(20)` should return `16` because `4**2 = 16 <= 20` but `5**2 = 25 > 20`\n",
    "\n",
    "Put this function in a file `quiz2prob2.py` (with the usual required header and file-level docstring) and submit it.  The file `quiz2prob2.py` doesn't need to do anything other than defining that single function."
   ]
  },
  {
   "cell_type": "code",
   "execution_count": null,
   "metadata": {},
   "outputs": [],
   "source": [
    "# MCS 275 Quiz 2 Problem 2\n",
    "# Jennifer Vaccaro\n",
    "# I have created this code in accordance with the course syllabus.\n",
    "\n",
    "def square_floor(n):   \n",
    "    \"\"\"Finds the largest square smaller than the given integer\"\"\"\n",
    "    ans_sqrt = int(n**0.5) # Take the square root, then convert to an integer\n",
    "    return ans_sqrt**2 # Square and return"
   ]
  },
  {
   "cell_type": "markdown",
   "metadata": {},
   "source": [
    "## Problem 3: Longest run - 4 points\n",
    "\n",
    "Write a function `longest_run_length(text)` that takes a string `text` and returns an integer which is the length of the longest consecutive block of any single character in the string.\n",
    "\n",
    "The function should consider any character, and use case-sensitive comparisons.\n",
    "\n",
    "Therefore:\n",
    "\n",
    "* ` longest_run_length(\"heliotrope!!\")` should return 2 because `\"!\"` appears twice in a row, and no character appers 3 or more times in a row\n",
    "* `longest_run_length(\"Distinguished   raccoons\")` should return 3 because there are three spaces in a row in the string, and no character appears 4 times in a row\n",
    "* `longest_run_length(\"\")` should return 0\n",
    "* `longest_run_length(\"Eels have a complicated life cycle with many stages\")` should return `1` because the string is not empty, but no character appears twice (or more) in a row\n",
    "\n",
    "Put this function in a file `quiz2prob3.py` (with the usual required header and file-level docstring) and submit it.  The file `quiz2prob3.py` doesn't need to do anything other than defining that single function.\n",
    "\n",
    "Note: It is expected that you can make this function pretty easily by modifying the solution to one of the problems on Worksheet 2."
   ]
  },
  {
   "cell_type": "code",
   "execution_count": 15,
   "metadata": {},
   "outputs": [],
   "source": [
    "# MCS 275 Quiz 2 Problem 3\n",
    "# Jennifer Vaccaro\n",
    "# I have created this code in accordance with the course syllabus.\n",
    "\n",
    "def longest_run_length(text):\n",
    "    \"\"\"Given a text string, returns the length of the longest sequence of repeated characters\"\"\"\n",
    "    last_char = \"\"\n",
    "    current_run = 1\n",
    "    longest_run = 0\n",
    "    # Compare each character to the previous character\n",
    "    # Count the number of consecutive repeats\n",
    "    for c in text:\n",
    "        if c == last_char:\n",
    "            current_run += 1\n",
    "        else:\n",
    "            current_run = 1\n",
    "        if current_run > longest_run:\n",
    "            longest_run = current_run #update longest_run\n",
    "        last_char = c\n",
    "    # Return the value of the longest run\n",
    "    return longest_run"
   ]
  },
  {
   "cell_type": "markdown",
   "metadata": {},
   "source": [
    "## Problem 4: RATS classifier - 4 points\n",
    "\n",
    "Recall the RATS process described in Worksheet 2.  This associated to any integer `n` a sequence of numbers, such as `n=12` leading to the sequence `12, 33, 66, 123, 444, 888, 1677, 3489, 12333, 44556, ...`.\n",
    "\n",
    "In Worksheet 2 you wrote a program to compute this sequence for one starting value, and to stop if a cycle was found.  When we determine whether a certain starting value leads to a cycle, we'll say that we have **classified** the that starting value.  So the Worksheet 2 program classifies a single starting value provided by the user.\n",
    "\n",
    "Modify the program developed in Worksheet 2 so that instead of classifying one starting value, it tries each value of `n` between `1` and `100` (inclusive) and prints what it finds for each one.  Each line of output should show the starting value and the observed behavior.  The modified program shouldn't require any command line arguments or keyboard input.\n",
    "\n",
    "When it is run, the first six lines of output should be:\n",
    "```\n",
    "1: No periodic sequence found in 150 iterations\n",
    "2: No periodic sequence found in 150 iterations\n",
    "3: Ends at periodic sequence [444, 888, 1677, 3489, 12333, 44556, 111, 222]\n",
    "4: No periodic sequence found in 150 iterations\n",
    "5: No periodic sequence found in 150 iterations\n",
    "6: Ends at periodic sequence [444, 888, 1677, 3489, 12333, 44556, 111, 222]\n",
    "```\n",
    "and the last two lines of output should be:\n",
    "```\n",
    "99: Ends at periodic sequence [117, 288]\n",
    "100: No periodic sequence found in 150 iterations\n",
    "```\n",
    "Note the slightly different way of printing the output compared to Worksheet 2.\n",
    "\n",
    "Call this program `quiz2prob4.py` (with the usual required header and file-level docstring) and submit it."
   ]
  },
  {
   "cell_type": "code",
   "execution_count": 16,
   "metadata": {},
   "outputs": [
    {
     "output_type": "stream",
     "name": "stdout",
     "text": [
      "1: RATS has no periodic sequence after 150 iterations\n2: RATS has no periodic sequence after 150 iterations\n3: RATS ends in a periodic sequence [444, 888, 1677, 3489, 12333, 44556, 111, 222]\n4: RATS has no periodic sequence after 150 iterations\n5: RATS has no periodic sequence after 150 iterations\n6: RATS ends in a periodic sequence [444, 888, 1677, 3489, 12333, 44556, 111, 222]\n7: RATS has no periodic sequence after 150 iterations\n8: RATS has no periodic sequence after 150 iterations\n9: RATS ends in a periodic sequence [117, 288]\n10: RATS has no periodic sequence after 150 iterations\n11: RATS has no periodic sequence after 150 iterations\n12: RATS ends in a periodic sequence [444, 888, 1677, 3489, 12333, 44556, 111, 222]\n13: RATS has no periodic sequence after 150 iterations\n14: RATS has no periodic sequence after 150 iterations\n15: RATS ends in a periodic sequence [444, 888, 1677, 3489, 12333, 44556, 111, 222]\n16: RATS has no periodic sequence after 150 iterations\n17: RATS has no periodic sequence after 150 iterations\n18: RATS ends in a periodic sequence [117, 288]\n19: RATS has no periodic sequence after 150 iterations\n20: RATS has no periodic sequence after 150 iterations\n21: RATS ends in a periodic sequence [444, 888, 1677, 3489, 12333, 44556, 111, 222]\n22: RATS has no periodic sequence after 150 iterations\n23: RATS has no periodic sequence after 150 iterations\n24: RATS ends in a periodic sequence [444, 888, 1677, 3489, 12333, 44556, 111, 222]\n25: RATS has no periodic sequence after 150 iterations\n26: RATS has no periodic sequence after 150 iterations\n27: RATS ends in a periodic sequence [117, 288]\n28: RATS has no periodic sequence after 150 iterations\n29: RATS ends in a periodic sequence [4444, 8888, 16777, 34589, 112333, 444455, 889999, 1788899, 1177777, 4558889, 13444447, 77888888, 156667777, 233444489, 1112278888, 11999, 11119, 1223]\n30: RATS ends in a periodic sequence [444, 888, 1677, 3489, 12333, 44556, 111, 222]\n31: RATS has no periodic sequence after 150 iterations\n32: RATS has no periodic sequence after 150 iterations\n33: RATS ends in a periodic sequence [444, 888, 1677, 3489, 12333, 44556, 111, 222]\n34: RATS has no periodic sequence after 150 iterations\n35: RATS has no periodic sequence after 150 iterations\n36: RATS ends in a periodic sequence [117, 288]\n37: RATS has no periodic sequence after 150 iterations\n38: RATS ends in a periodic sequence [4444, 8888, 16777, 34589, 112333, 444455, 889999, 1788899, 1177777, 4558889, 13444447, 77888888, 156667777, 233444489, 1112278888, 11999, 11119, 1223]\n39: RATS ends in a periodic sequence [444, 888, 1677, 3489, 12333, 44556, 111, 222]\n40: RATS has no periodic sequence after 150 iterations\n41: RATS has no periodic sequence after 150 iterations\n42: RATS ends in a periodic sequence [444, 888, 1677, 3489, 12333, 44556, 111, 222]\n43: RATS has no periodic sequence after 150 iterations\n44: RATS has no periodic sequence after 150 iterations\n45: RATS ends in a periodic sequence [117, 288]\n46: RATS has no periodic sequence after 150 iterations\n47: RATS ends in a periodic sequence [4444, 8888, 16777, 34589, 112333, 444455, 889999, 1788899, 1177777, 4558889, 13444447, 77888888, 156667777, 233444489, 1112278888, 11999, 11119, 1223]\n48: RATS ends in a periodic sequence [444, 888, 1677, 3489, 12333, 44556, 111, 222]\n49: RATS ends in a periodic sequence [4444, 8888, 16777, 34589, 112333, 444455, 889999, 1788899, 1177777, 4558889, 13444447, 77888888, 156667777, 233444489, 1112278888, 11999, 11119, 1223]\n50: RATS has no periodic sequence after 150 iterations\n51: RATS ends in a periodic sequence [444, 888, 1677, 3489, 12333, 44556, 111, 222]\n52: RATS has no periodic sequence after 150 iterations\n53: RATS has no periodic sequence after 150 iterations\n54: RATS ends in a periodic sequence [117, 288]\n55: RATS has no periodic sequence after 150 iterations\n56: RATS ends in a periodic sequence [4444, 8888, 16777, 34589, 112333, 444455, 889999, 1788899, 1177777, 4558889, 13444447, 77888888, 156667777, 233444489, 1112278888, 11999, 11119, 1223]\n57: RATS ends in a periodic sequence [444, 888, 1677, 3489, 12333, 44556, 111, 222]\n58: RATS ends in a periodic sequence [4444, 8888, 16777, 34589, 112333, 444455, 889999, 1788899, 1177777, 4558889, 13444447, 77888888, 156667777, 233444489, 1112278888, 11999, 11119, 1223]\n59: RATS has no periodic sequence after 150 iterations\n60: RATS ends in a periodic sequence [444, 888, 1677, 3489, 12333, 44556, 111, 222]\n61: RATS has no periodic sequence after 150 iterations\n62: RATS has no periodic sequence after 150 iterations\n63: RATS ends in a periodic sequence [117, 288]\n64: RATS has no periodic sequence after 150 iterations\n65: RATS ends in a periodic sequence [4444, 8888, 16777, 34589, 112333, 444455, 889999, 1788899, 1177777, 4558889, 13444447, 77888888, 156667777, 233444489, 1112278888, 11999, 11119, 1223]\n66: RATS ends in a periodic sequence [444, 888, 1677, 3489, 12333, 44556, 111, 222]\n67: RATS ends in a periodic sequence [4444, 8888, 16777, 34589, 112333, 444455, 889999, 1788899, 1177777, 4558889, 13444447, 77888888, 156667777, 233444489, 1112278888, 11999, 11119, 1223]\n68: RATS has no periodic sequence after 150 iterations\n69: RATS ends in a periodic sequence [156, 78]\n70: RATS has no periodic sequence after 150 iterations\n71: RATS has no periodic sequence after 150 iterations\n72: RATS ends in a periodic sequence [117, 288]\n73: RATS has no periodic sequence after 150 iterations\n74: RATS ends in a periodic sequence [4444, 8888, 16777, 34589, 112333, 444455, 889999, 1788899, 1177777, 4558889, 13444447, 77888888, 156667777, 233444489, 1112278888, 11999, 11119, 1223]\n75: RATS ends in a periodic sequence [444, 888, 1677, 3489, 12333, 44556, 111, 222]\n76: RATS ends in a periodic sequence [4444, 8888, 16777, 34589, 112333, 444455, 889999, 1788899, 1177777, 4558889, 13444447, 77888888, 156667777, 233444489, 1112278888, 11999, 11119, 1223]\n77: RATS has no periodic sequence after 150 iterations\n78: RATS ends in a periodic sequence [78, 156]\n79: RATS has no periodic sequence after 150 iterations\n80: RATS has no periodic sequence after 150 iterations\n81: RATS ends in a periodic sequence [117, 288]\n82: RATS has no periodic sequence after 150 iterations\n83: RATS ends in a periodic sequence [4444, 8888, 16777, 34589, 112333, 444455, 889999, 1788899, 1177777, 4558889, 13444447, 77888888, 156667777, 233444489, 1112278888, 11999, 11119, 1223]\n84: RATS ends in a periodic sequence [444, 888, 1677, 3489, 12333, 44556, 111, 222]\n85: RATS ends in a periodic sequence [4444, 8888, 16777, 34589, 112333, 444455, 889999, 1788899, 1177777, 4558889, 13444447, 77888888, 156667777, 233444489, 1112278888, 11999, 11119, 1223]\n86: RATS has no periodic sequence after 150 iterations\n87: RATS ends in a periodic sequence [156, 78]\n88: RATS has no periodic sequence after 150 iterations\n89: RATS has no periodic sequence after 150 iterations\n90: RATS ends in a periodic sequence [117, 288]\n91: RATS has no periodic sequence after 150 iterations\n92: RATS ends in a periodic sequence [4444, 8888, 16777, 34589, 112333, 444455, 889999, 1788899, 1177777, 4558889, 13444447, 77888888, 156667777, 233444489, 1112278888, 11999, 11119, 1223]\n93: RATS ends in a periodic sequence [444, 888, 1677, 3489, 12333, 44556, 111, 222]\n94: RATS ends in a periodic sequence [4444, 8888, 16777, 34589, 112333, 444455, 889999, 1788899, 1177777, 4558889, 13444447, 77888888, 156667777, 233444489, 1112278888, 11999, 11119, 1223]\n95: RATS has no periodic sequence after 150 iterations\n96: RATS ends in a periodic sequence [156, 78]\n97: RATS has no periodic sequence after 150 iterations\n98: RATS has no periodic sequence after 150 iterations\n99: RATS ends in a periodic sequence [117, 288]\n100: RATS has no periodic sequence after 150 iterations\n"
     ]
    }
   ],
   "source": [
    "# MCS 275 Quiz 2 Problem 4\n",
    "# Jennifer Vaccaro\n",
    "# I have adjusted this code from course worksheet solutions in accordance with the course syllabus.\n",
    "\n",
    "def reverse_int(n):\n",
    "    \"\"\"Reverse the digits of integer n and return\n",
    "    the resulting integer\"\"\"\n",
    "    n_str = str(n)\n",
    "    # Note: int() drops leading zeros automatically, so\n",
    "    # e.g. int(\"0012\") returns 12\n",
    "    return int(n_str[::-1])\n",
    "\n",
    "def next_rats(n):\n",
    "    \"\"\"Reverses, adds, then sorts an integer n\"\"\"\n",
    "    sum_int = n + reverse_int(n)\n",
    "    sum_digits = list(str(sum_int)) \n",
    "    sum_digits.sort() \n",
    "    sorted_sum_str = \"\".join(sum_digits)\n",
    "    return int(sorted_sum_str)\n",
    "\n",
    "# Iterate start_n from 1-100 inclusive\n",
    "for start_n in range(1,101):\n",
    "    # Instead of using a user input, use start_n to run RATS.\n",
    "    max_generations = 150\n",
    "    rats_list = [start_n]\n",
    "    n = start_n\n",
    "    periodic = False\n",
    "    for _ in range(max_generations):\n",
    "        n = next_rats(n)\n",
    "        if n in rats_list:\n",
    "            print(\"{}: RATS ends in a periodic sequence {}\".format(start_n, rats_list[rats_list.index(n):]))\n",
    "            periodic = True\n",
    "            break\n",
    "        else:\n",
    "            rats_list.append(n)\n",
    "\n",
    "    if not periodic:\n",
    "        print(\"{}: RATS has no periodic sequence after {} iterations\".format(start_n, max_generations))\n"
   ]
  },
  {
   "cell_type": "code",
   "execution_count": null,
   "metadata": {},
   "outputs": [],
   "source": []
  }
 ],
 "metadata": {
  "kernelspec": {
   "display_name": "Python 3",
   "language": "python",
   "name": "python3"
  },
  "language_info": {
   "codemirror_mode": {
    "name": "ipython",
    "version": 3
   },
   "file_extension": ".py",
   "mimetype": "text/x-python",
   "name": "python",
   "nbconvert_exporter": "python",
   "pygments_lexer": "ipython3",
   "version": "3.8.5-final"
  }
 },
 "nbformat": 4,
 "nbformat_minor": 4
}